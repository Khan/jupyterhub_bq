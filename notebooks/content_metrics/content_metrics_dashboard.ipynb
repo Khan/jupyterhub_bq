{
 "cells": [
  {
   "cell_type": "markdown",
   "metadata": {},
   "source": [
    "# Content Metrics Dashboard"
   ]
  },
  {
   "cell_type": "markdown",
   "metadata": {},
   "source": [
    "### Usage Instructions"
   ]
  },
  {
   "cell_type": "markdown",
   "metadata": {},
   "source": [
    "1. In the tool bar above Click Cell --> Run All (this will cause the code in the notebook to execute. NOTE: when python code is currently executing, you'll notice that the circle in the upper right hand corner of the screen is filled in. You will not be able to take any other actions while code is executing)\n",
    "2. You will likely be prompted to authenticate yourself before proceeding (this is to ensure that you have the permissions to be talking to bigquery and google cloud storage). You will see a link and an input box for a verification code. Open the link in a new tab and copy the code provided. Paste that code in the verification box and press enter. You should see the text \"Authentication Successful\" and the remaining cells of the notebook should then execute.\n",
    "3. Once all cells in the notebook have finished executing, you should see several widgets for visualizing content data"
   ]
  },
  {
   "cell_type": "code",
   "execution_count": 31,
   "metadata": {
    "collapsed": false
   },
   "outputs": [
    {
     "name": "stdout",
     "output_type": "stream",
     "text": [
      "Populating the interactive namespace from numpy and matplotlib\n"
     ]
    },
    {
     "name": "stderr",
     "output_type": "stream",
     "text": [
      "WARNING: pylab import has clobbered these variables: ['copy', 'title', 'test']\n",
      "`%matplotlib` prevents importing * from pylab and numpy\n"
     ]
    }
   ],
   "source": [
    "%pylab inline"
   ]
  },
  {
   "cell_type": "code",
   "execution_count": 32,
   "metadata": {
    "collapsed": true
   },
   "outputs": [],
   "source": [
    "import sys\n",
    "sys.path.append('..')"
   ]
  },
  {
   "cell_type": "code",
   "execution_count": 33,
   "metadata": {
    "collapsed": false
   },
   "outputs": [],
   "source": [
    "# project imports\n",
    "import util.bq_util as bqnb\n",
    "from code import dashboard_util\n",
    "from code import plot_funcs\n",
    "from code.queries import LATEST_MONTH_START, LATEST_MONTH_END, CURR_YEAR, CURR_MONTH, ALL_TIME_START, query_dict\n",
    "from code.config import COMPARISON_NODES, SUMMARY_NODE\n",
    "from code import prep\n",
    "from code import query_wrappers as qw\n",
    "try:\n",
    "    test = bq.tables().list(projectId=\"khanacademy.org:deductive-jet-827\", datasetId=\"content_metrics\").execute()\n",
    "except:\n",
    "    bq, gcs = bqnb.get_authed_clients()"
   ]
  },
  {
   "cell_type": "code",
   "execution_count": 34,
   "metadata": {
    "collapsed": true
   },
   "outputs": [],
   "source": [
    "# general imports\n",
    "import collections\n",
    "import csv\n",
    "import copy\n",
    "import cStringIO\n",
    "import os\n",
    "import pandas as pd\n",
    "import datetime\n",
    "import matplotlib.pyplot as plt\n",
    "import seaborn as sns\n",
    "sns.set_style(\"white\")\n",
    "import ipywidgets\n",
    "from IPython.display import clear_output, HTML, display, Javascript"
   ]
  },
  {
   "cell_type": "code",
   "execution_count": 35,
   "metadata": {
    "collapsed": false
   },
   "outputs": [],
   "source": [
    "cells_visable = True\n",
    "def toggle_code_cells(btn):\n",
    "    global cells_visable\n",
    "    if cells_visable:\n",
    "        display(Javascript(\"$('div.input').hide();\"))\n",
    "        btn.description = \"Show Code Cells\"\n",
    "    else:\n",
    "        display(Javascript(\"$('div.input').show();\"))\n",
    "        btn.description = \"Hide Code Cells\"\n",
    "    cells_visable = not cells_visable\n",
    "    \n",
    "    \n",
    "toggle_code = ipywidgets.Button(description=\"Hide Code Cells\", button_style=\"warning\", width=\"800px\")\n",
    "toggle_code.on_click(toggle_code_cells)\n",
    "\n",
    "toggle_refresh = ipywidgets.ToggleButtons(\n",
    "    options=['Reuse Data', 'Refresh Data'],\n",
    ")\n",
    "display(toggle_code)"
   ]
  },
  {
   "cell_type": "code",
   "execution_count": 36,
   "metadata": {
    "collapsed": true
   },
   "outputs": [],
   "source": [
    "display(toggle_refresh)"
   ]
  },
  {
   "cell_type": "code",
   "execution_count": 37,
   "metadata": {
    "collapsed": false
   },
   "outputs": [],
   "source": [
    "# fetch data\n",
    "if toggle_refresh.value == \"Refresh Data\":\n",
    "    DATA, USAGE_DFS = qw.fetch_all_dashboard_data(bq)\n",
    "    dashboard_util.save_to_gcs(gcs, DATA, USAGE_DFS)\n",
    "else:\n",
    "    DATA, USAGE_DFS = dashboard_util.load_from_gcs(gcs)\n",
    "    # DATA, USAGE_DFS = dashboard_util.load_locally(\"./local_data\")"
   ]
  },
  {
   "cell_type": "code",
   "execution_count": 38,
   "metadata": {
    "collapsed": false
   },
   "outputs": [],
   "source": [
    "# query viewer callback\n",
    "def print_query_callback(btn):\n",
    "    print query_dict[query_chooser.value]\n",
    "query_chooser = ipywidgets.Dropdown(padding=4, options=sorted(query_dict.keys()), width=\"270px\")\n",
    "query_chooser.on_trait_change(clear_output)\n",
    "title = ipywidgets.HTML(value='<h3> Query Viewer </h3> ')\n",
    "view_button = ipywidgets.Button(description='View Query', width=\"300px\", button_style=\"warning\")\n",
    "view_button.on_click(print_query_callback)\n",
    "query_container = ipywidgets.VBox([title, query_chooser, view_button])"
   ]
  },
  {
   "cell_type": "code",
   "execution_count": 39,
   "metadata": {
    "collapsed": false
   },
   "outputs": [],
   "source": [
    "# Setup Dashboard Widget for Content production\n",
    "PRODUCTION_PLOT_STATE = {\"content_type\": \"all\", \"main_type\": \"Total Content\", \"comparisons\":[]}\n",
    "PRODUCTION_STATE_BOX = ipywidgets.HTML(value='')\n",
    "\n",
    "def plot_spec(main_type=None, content_type=None, comparisons=None):\n",
    "    if main_type == \"Total Content\":\n",
    "        kind = \"Total\"\n",
    "        input_df = DATA['content_total_timecourse_df']\n",
    "    else:\n",
    "        kind = \"New\"\n",
    "        input_df = DATA['content_added_timecourse_df']\n",
    "    clear_output()\n",
    "    plot_funcs.construct_plotdf(input_df, comparisons, content_type, kind)\n",
    "    \n",
    "def content_type_callback(btn):\n",
    "    PRODUCTION_PLOT_STATE[\"content_type\"]=btn.description\n",
    "    PRODUCTION_PLOT_STATE[\"comparisons\"] = prod_selector.value\n",
    "    plot_spec(**PRODUCTION_PLOT_STATE)\n",
    "    display_state(PRODUCTION_STATE_BOX, PRODUCTION_PLOT_STATE)\n",
    "\n",
    "def plot_type_callback(btn):\n",
    "    PRODUCTION_PLOT_STATE[\"main_type\"]=btn.description\n",
    "    PRODUCTION_PLOT_STATE[\"comparisons\"] = prod_selector.value\n",
    "    plot_spec(**PRODUCTION_PLOT_STATE)\n",
    "    display_state(PRODUCTION_STATE_BOX, PRODUCTION_PLOT_STATE)\n",
    "\n",
    "def display_state(state, current_global_state):\n",
    "    main_type = current_global_state[\"main_type\"]\n",
    "    content_type = current_global_state[\"content_type\"]\n",
    "    comparisons = \", \".join(current_global_state[\"comparisons\"])\n",
    "    state.value = '<h3>%s</h3> <h4>content type: %s</h4>  <h4>comparisons: %s</h4>' %(main_type, content_type, comparisons)\n",
    "\n",
    "prod_container, prod_selector = dashboard_util.create_production_widgets(content_type_callback, plot_type_callback)"
   ]
  },
  {
   "cell_type": "code",
   "execution_count": 40,
   "metadata": {
    "collapsed": false
   },
   "outputs": [],
   "source": [
    "# Setup dashboard widget for content usage\n",
    "USAGE_PLOT_STATE = {\"content_type\": \"all\", \"main_type\": \"Learners\", \"comparisons\": ['Physics', 'Biology', 'Chemistry']}\n",
    "USAGE_STATE_BOX = ipywidgets.HTML(value='')\n",
    "\n",
    "def give_plot_options(main_type=None, content_type=None, comparisons=None):\n",
    "    if content_type == \"video\":\n",
    "        yt_button.visible=True\n",
    "\n",
    "def content_type_usage_callback(btn):\n",
    "    yt_button.visible=False\n",
    "    set_plot_state(comparisons=usage_selector.value, content_type=btn.description[:-1] if btn.description.endswith(\"s\") else btn.description)\n",
    "    display_state(USAGE_STATE_BOX, USAGE_PLOT_STATE)\n",
    "    give_plot_options(**USAGE_PLOT_STATE)\n",
    "    render()\n",
    "\n",
    "def usage_type_callback(btn):\n",
    "    set_plot_state(comparisons=usage_selector.value, main_type=btn.description)\n",
    "    display_state(USAGE_STATE_BOX, USAGE_PLOT_STATE)\n",
    "    give_plot_options(**USAGE_PLOT_STATE)\n",
    "    render()\n",
    "    \n",
    "def set_plot_state(comparisons=None, main_type=None, content_type=None):\n",
    "    if comparisons:\n",
    "        USAGE_PLOT_STATE[\"comparisons\"] = comparisons\n",
    "    if main_type:\n",
    "        USAGE_PLOT_STATE[\"main_type\"] = main_type\n",
    "    if content_type:\n",
    "        USAGE_PLOT_STATE[\"content_type\"]= content_type\n",
    "\n",
    "def render():\n",
    "    df = prep.construct_df(USAGE_DFS, USAGE_PLOT_STATE)\n",
    "    clear_output()\n",
    "    f,axes = plt.subplots(2,1,figsize=[12,8])\n",
    "    if USAGE_PLOT_STATE[\"main_type\"] == \"Learners\":\n",
    "        column = \"num_learners\"\n",
    "    elif USAGE_PLOT_STATE[\"main_type\"] == \"Learning Time\":\n",
    "        column = \"TLT\"\n",
    "    elif USAGE_PLOT_STATE[\"main_type\"] == \"Content Nodes Learned\":\n",
    "        column = \"num_content_learned\"\n",
    "    else:\n",
    "        set_plot_state(main_type=\"Learners\")\n",
    "        column = \"num_learners\"\n",
    "    yoy_growth = prep.calc_yoy_growth(df, column)\n",
    "    plot_funcs.plot_timecourse(df, column, column, column, ax=axes[0], kind=\"area\")\n",
    "    if len(yoy_growth)>0:\n",
    "        plot_funcs.plot_yoy_growth(yoy_growth, column, ax=axes[1])\n",
    "    plt.tight_layout()\n",
    "    display_state(USAGE_STATE_BOX, USAGE_PLOT_STATE)\n",
    "\n",
    "    \n",
    "## YT data\n",
    "def yt_callback(btn):\n",
    "    set_plot_state(comparisons = usage_selector.options)\n",
    "    plot_funcs.make_yt_plot(DATA['yt_logs'])\n",
    "    set_plot_state(main_type=\"YT vs KA\")\n",
    "    display_state(USAGE_STATE_BOX, USAGE_PLOT_STATE)\n",
    "def completion_callback(btn):\n",
    "    set_plot_state(comparisons=usage_selector.value, main_type=\"Completion Stats\")\n",
    "    display_state(USAGE_STATE_BOX, USAGE_PLOT_STATE)\n",
    "    plot_funcs.plot_completion(USAGE_DFS, USAGE_PLOT_STATE)\n",
    "def returning_callback(btn):\n",
    "    clear_output()\n",
    "    set_plot_state(comparisons=usage_selector.value, main_type=\"Churn Stats\")\n",
    "    plotdf, churndf = prep.analyze_new_learners(DATA['new_learner_df'], USAGE_DFS, USAGE_PLOT_STATE[\"content_type\"], USAGE_PLOT_STATE[\"comparisons\"])\n",
    "    plot_funcs.plot_new_learner_props(plotdf)\n",
    "    display_state(USAGE_STATE_BOX, USAGE_PLOT_STATE)\n",
    "    display(churndf)\n",
    "def request_callback(btn):\n",
    "    clear_output()\n",
    "    set_plot_state(comparisons=usage_selector.value, main_type=\"Visitor Stats\")\n",
    "    display_state(USAGE_STATE_BOX, USAGE_PLOT_STATE)\n",
    "    plot_funcs.plot_visitors(DATA['request_logs_breakdown'], USAGE_PLOT_STATE[\"comparisons\"], USAGE_PLOT_STATE[\"content_type\"])\n",
    "\n",
    "comp_button = ipywidgets.Button(description=\"Plot Completion Rates\", button_style=\"warning\", width=\"200px\", margin=\"3px\")\n",
    "comp_button.on_click(completion_callback)\n",
    "returning_button = ipywidgets.Button(description=\"Plot Return/Churn Stats\", button_style=\"warning\", width=\"200px\", margin=\"3px\")\n",
    "returning_button.on_click(returning_callback)\n",
    "request_button = ipywidgets.Button(description=\"Plot Page Visitors\", button_style=\"warning\", width=\"200px\", margin=\"3px\")\n",
    "request_button.on_click(request_callback)\n",
    "yt_button = ipywidgets.Button(description=\"Plot YouTube vs KA usage\", button_style=\"warning\", width=\"200px\", visible=False, margin=\"3px\")\n",
    "yt_button.on_click(yt_callback)\n",
    "usage_container, usage_selector = dashboard_util.create_usage_widgets(content_type_usage_callback, usage_type_callback, extra_buttons=[comp_button, returning_button, request_button, yt_button])"
   ]
  },
  {
   "cell_type": "code",
   "execution_count": 41,
   "metadata": {
    "collapsed": false
   },
   "outputs": [],
   "source": [
    "#set up export of final reports\n",
    "def construct_export_df(export_name):\n",
    "    if export_name == \"content_production_history\":\n",
    "        df = prep.create_production_history(DATA['content_total_timecourse_df'],\n",
    "                                            DATA['content_added_timecourse_df'])\n",
    "    elif export_name == \"content_production_snapshot\":\n",
    "        df = prep.create_production_snapshot(DATA['total_content_available'],\n",
    "                                             DATA['content_added_this_month'])\n",
    "    elif export_name == \"content_usage_history\":\n",
    "        df = prep.create_usage_history(USAGE_DFS)\n",
    "    elif export_name == \"content_usage_snapshot\":\n",
    "        df = prep.create_usage_snapshot(USAGE_DFS, \n",
    "                                        DATA['request_logs_breakdown'], \n",
    "                                        DATA['yt_logs'], \n",
    "                                        DATA['new_learner_df'])\n",
    "    return df\n",
    "def export_handler(widget):\n",
    "    filename = dashboard_util.exporter_names.value\n",
    "    df = construct_export_df(dashboard_util.exporter_names.value)\n",
    "    download_link.value = dashboard_util.export(filename, df)\n",
    "    download_link.visible = True\n",
    "    return df\n",
    "download_link = ipywidgets.HTML(visible=False)\n",
    "dashboard_util.export_button.on_click(export_handler)\n",
    "dashboard_util.exporter_names.on_trait_change(lambda x: setattr(download_link, \"visible\", False))"
   ]
  },
  {
   "cell_type": "code",
   "execution_count": 42,
   "metadata": {
    "collapsed": false
   },
   "outputs": [],
   "source": [
    "# content area callback\n",
    "d = dict(COMPARISON_NODES.items() + SUMMARY_NODE.items())\n",
    "def print_area_callback(btn):\n",
    "    print d[area_chooser.value]\n",
    "area_chooser = ipywidgets.Dropdown(padding=4, options=sorted(d.keys()), width=\"270px\")\n",
    "area_chooser.on_trait_change(clear_output)\n",
    "title = ipywidgets.HTML(value='<h3> View Content Areas </h3> ')\n",
    "view_button = ipywidgets.Button(description='View', width=\"300px\", button_style=\"warning\")\n",
    "view_button.on_click(print_area_callback)\n",
    "area_container = ipywidgets.VBox([title, area_chooser, view_button])"
   ]
  },
  {
   "cell_type": "markdown",
   "metadata": {},
   "source": [
    "# Content Metrics Dashboard\n",
    "## ............................................................................................................................................................"
   ]
  },
  {
   "cell_type": "code",
   "execution_count": 43,
   "metadata": {
    "collapsed": false
   },
   "outputs": [],
   "source": [
    "display(prod_container)\n",
    "display(PRODUCTION_STATE_BOX)"
   ]
  },
  {
   "cell_type": "markdown",
   "metadata": {},
   "source": [
    "## ............................................................................................................................................................"
   ]
  },
  {
   "cell_type": "code",
   "execution_count": 44,
   "metadata": {
    "collapsed": false
   },
   "outputs": [],
   "source": [
    "display(usage_container)\n",
    "display(USAGE_STATE_BOX)"
   ]
  },
  {
   "cell_type": "markdown",
   "metadata": {},
   "source": [
    "## ............................................................................................................................................................"
   ]
  },
  {
   "cell_type": "code",
   "execution_count": 45,
   "metadata": {
    "collapsed": false
   },
   "outputs": [],
   "source": [
    "display(dashboard_util.exporter_names)\n",
    "display(dashboard_util.export_button)\n",
    "download_link.visible=False\n",
    "display(download_link)"
   ]
  },
  {
   "cell_type": "markdown",
   "metadata": {},
   "source": [
    "## ............................................................................................................................................................"
   ]
  },
  {
   "cell_type": "code",
   "execution_count": 48,
   "metadata": {
    "collapsed": false
   },
   "outputs": [],
   "source": [
    "display(area_container)"
   ]
  },
  {
   "cell_type": "code",
   "execution_count": 49,
   "metadata": {
    "collapsed": false
   },
   "outputs": [],
   "source": [
    "display(query_container)"
   ]
  },
  {
   "cell_type": "markdown",
   "metadata": {},
   "source": [
    "# NOTES"
   ]
  },
  {
   "cell_type": "markdown",
   "metadata": {},
   "source": [
    "Some weirdnesses to look into/be aware of:\n",
    "- query to get visitors/sessions with all Core Academic fails with resources exceeded\n",
    "- query to get new vs. returning for Core Academic fails \n",
    "- completion stats for exercises seem off (have hypothesis about what's up there, but need to confirm)"
   ]
  },
  {
   "cell_type": "code",
   "execution_count": null,
   "metadata": {
    "collapsed": true
   },
   "outputs": [],
   "source": []
  },
  {
   "cell_type": "code",
   "execution_count": null,
   "metadata": {
    "collapsed": true
   },
   "outputs": [],
   "source": []
  },
  {
   "cell_type": "code",
   "execution_count": null,
   "metadata": {
    "collapsed": true
   },
   "outputs": [],
   "source": []
  },
  {
   "cell_type": "code",
   "execution_count": null,
   "metadata": {
    "collapsed": true
   },
   "outputs": [],
   "source": []
  },
  {
   "cell_type": "code",
   "execution_count": null,
   "metadata": {
    "collapsed": true
   },
   "outputs": [],
   "source": []
  }
 ],
 "metadata": {
  "kernelspec": {
   "display_name": "Python 2",
   "language": "python",
   "name": "python2"
  },
  "language_info": {
   "codemirror_mode": {
    "name": "ipython",
    "version": 2
   },
   "file_extension": ".py",
   "mimetype": "text/x-python",
   "name": "python",
   "nbconvert_exporter": "python",
   "pygments_lexer": "ipython2",
   "version": "2.7.10"
  }
 },
 "nbformat": 4,
 "nbformat_minor": 0
}
