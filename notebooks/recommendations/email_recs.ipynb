{
 "cells": [
  {
   "cell_type": "code",
   "execution_count": 1,
   "metadata": {
    "collapsed": false
   },
   "outputs": [
    {
     "name": "stdout",
     "output_type": "stream",
     "text": [
      "Populating the interactive namespace from numpy and matplotlib\n"
     ]
    }
   ],
   "source": [
    "%pylab inline"
   ]
  },
  {
   "cell_type": "code",
   "execution_count": 2,
   "metadata": {
    "collapsed": false
   },
   "outputs": [
    {
     "name": "stderr",
     "output_type": "stream",
     "text": [
      "/usr/local/lib/python2.7/dist-packages/matplotlib/__init__.py:872: UserWarning: axes.color_cycle is deprecated and replaced with axes.prop_cycle; please use the latter.\n",
      "  warnings.warn(self.msg_depr % (key, alt_key))\n"
     ]
    }
   ],
   "source": [
    "import pandas as pd\n",
    "import numpy as np\n",
    "import matplotlib.pyplot as plt\n",
    "import sklearn.linear_model\n",
    "import sklearn.cross_validation\n",
    "import sklearn.metrics\n",
    "import seaborn as sns\n",
    "import sys\n",
    "import os\n",
    "sys.path.append('..')\n",
    "import util.bq_util"
   ]
  },
  {
   "cell_type": "markdown",
   "metadata": {},
   "source": [
    "## Load up some data"
   ]
  },
  {
   "cell_type": "code",
   "execution_count": 3,
   "metadata": {
    "collapsed": true
   },
   "outputs": [],
   "source": [
    "DATASET = \"recommendations\"\n",
    "PREDICTION_TABLE = \"predictions\"\n",
    "BUCKET = \"ka_recommendations/emails/\"\n",
    "BUCKET = \"ka_users/amy/\""
   ]
  },
  {
   "cell_type": "code",
   "execution_count": 16,
   "metadata": {
    "collapsed": false
   },
   "outputs": [
    {
     "name": "stdout",
     "output_type": "stream",
     "text": [
      "Authenticating with BigQuery and GCS...\n"
     ]
    }
   ],
   "source": [
    "bq, gcs = util.bq_util.get_authed_clients()"
   ]
  },
  {
   "cell_type": "code",
   "execution_count": 14,
   "metadata": {
    "collapsed": false
   },
   "outputs": [
    {
     "data": {
      "text/plain": [
       "[u'amy/rec_training000000000000.csv']"
      ]
     },
     "execution_count": 14,
     "metadata": {},
     "output_type": "execute_result"
    }
   ],
   "source": [
    "filename = \"rec_training_000000000000.csv\"\n",
    "filename = \"rec_training000000000000.csv\"\n",
    "util.bq_util.list_files_in_gcs_bucket(gcs, os.path.join(BUCKET, filename))"
   ]
  },
  {
   "cell_type": "code",
   "execution_count": null,
   "metadata": {
    "collapsed": false
   },
   "outputs": [],
   "source": [
    "util.bq_util.download_files_from_gcs(gcs, os.path.join(BUCKET, filename))\n",
    "df = pd.read_csv(filename)"
   ]
  },
  {
   "cell_type": "markdown",
   "metadata": {},
   "source": [
    "## Define preprocessing + modeling functionality"
   ]
  },
  {
   "cell_type": "code",
   "execution_count": null,
   "metadata": {
    "collapsed": false
   },
   "outputs": [],
   "source": [
    "def bow_a_field(userdf, field):\n",
    "    from sklearn.feature_extraction.text import TfidfVectorizer\n",
    "    tokenizer = TfidfVectorizer()\n",
    "    title_text_feats = tokenizer.fit_transform(userdf[\"title\"].values).todense()\n",
    "    feature_names = tokenizer.get_feature_names()\n",
    "    d = {}\n",
    "    for i, feat in enumerate(feature_names):\n",
    "        d[feat] = [cell[0] for cell in title_text_feats[:,i].tolist()]\n",
    "    subdf = pd.DataFrame(data=d)\n",
    "    subdf = subdf.rename(columns={col: field + \"_\" + col for col in subdf.columns})\n",
    "    udf = userdf.copy()\n",
    "    for col in subdf.columns:\n",
    "        udf[col] = subdf[col].values\n",
    "    return udf\n",
    "\n",
    "def feature_processing(userdf):\n",
    "    \"\"\"Preprocess dataframe for a single user\"\"\"\n",
    "    DV = [\"engaged\"] # DV = did they engage with the content\n",
    "    features = [\"kind\", \n",
    "                \"title\", \n",
    "                \"domain\", \n",
    "                \"subject\", \n",
    "                \"topic\", \n",
    "                #\"keywords\"\n",
    "                \"tutorial\", \n",
    "                \"num_learners_per_day\", \n",
    "                \"total_score\",\n",
    "                \"content_id\",\n",
    "               ]\n",
    "    data = userdf[DV + features].dropna()\n",
    "    for field in [\"title\"]:\n",
    "        data = bow_a_field(data, field)\n",
    "    return data\n",
    "\n",
    "def split_data(data): \n",
    "    \"\"\"Split data into X, Y\"\"\"\n",
    "    Y = data[\"engaged\"]\n",
    "    content_ids = data[\"content_id\"].values\n",
    "    features = data[[col for col in data.columns if col not in (\"engaged\", \"content_id\")]]\n",
    "    # dummify anything still in categorical form\n",
    "    X = pd.get_dummies(features)\n",
    "    return X, Y, content_ids\n",
    "\n",
    "def train_and_evaluate(X_feats, Y_feats, clf, print_it=False):\n",
    "    \"\"\"Run cross-validation for crude model evaluation.\"\"\"\n",
    "    X = X_feats.values\n",
    "    Y = Y_feats.values\n",
    "    kf = sklearn.cross_validation.StratifiedKFold(Y, n_folds=2, shuffle=True, random_state=100)\n",
    "    for i, (train_index, test_index) in enumerate(kf):\n",
    "        if print_it:\n",
    "            print \"WORKING ON FOLD %s:\" %i\n",
    "        X_train, X_test = X[train_index], X[test_index]\n",
    "        Y_train, Y_test = Y[train_index], Y[test_index]\n",
    "        clf.fit(X_train, Y_train)\n",
    "        predicted = clf.predict(X_test)\n",
    "        probabilities = [p[1] for p in clf.predict_proba(X_test)]\n",
    "        print_metrics(Y_test, predicted, probabilities, print_it=print_it)\n",
    "    return Y_test, predicted, probabilities\n",
    "\n",
    "def print_metrics(true, predicted, proba, print_it=False):\n",
    "    \"\"\"For debugging/investigating individual user metrics.\"\"\"\n",
    "    auc = sklearn.metrics.roc_auc_score(true, proba)\n",
    "    accuracy = sklearn.metrics.accuracy_score(true, predicted)\n",
    "    f1 = sklearn.metrics.f1_score(true, predicted)\n",
    "    recall = sklearn.metrics.recall_score(true, predicted)\n",
    "    precision = sklearn.metrics.precision_score(true, predicted)\n",
    "    fpr, tpr, thresholds = sklearn.metrics.roc_curve(true, proba)\n",
    "    if print_it:\n",
    "        print \"accuracy: %s\" % accuracy\n",
    "        print \"auc: %s\" % auc\n",
    "        print \"f1: %s\" % f1\n",
    "        print \"recall: %s\" % recall\n",
    "        print \"precision: %s\" % precision\n",
    "        \n",
    "def final_predict(kaid, userdf, clf):\n",
    "    # split into positive and negative examples (all positive examples will go in training data)\n",
    "    positives = userdf[userdf[\"engaged\"]==1]\n",
    "    negatives = userdf[userdf[\"engaged\"]==0]\n",
    "    \n",
    "    # split remaining negatives into training and test (top half most popular will be test)\n",
    "    train = negatives[:len(negatives)/2]\n",
    "    test_ids = negatives[len(negatives)/2:].content_id.values\n",
    "    train_ids = pd.concat([train, positives]).content_id.values\n",
    "    prepped_data = feature_processing(userdf)\n",
    "    \n",
    "    #Split into X and Y + construct training and tests sets\n",
    "    X, Y, cids = split_data(prepped_data)\n",
    "    X_train, Y_train = [], []\n",
    "    X_test, Y_test, test_cids = [], [], []\n",
    "    for i, content_id in enumerate(cids):\n",
    "        if content_id in train_ids:\n",
    "            X_train.append(X.values[i])\n",
    "            Y_train.append(Y.values[i])\n",
    "        elif content_id in test_ids:\n",
    "            X_test.append(X.values[i])\n",
    "            Y_test.append(Y.values[i])\n",
    "            test_cids.append(content_id)\n",
    "            \n",
    "    # fit model and make predictions\n",
    "    clf.fit(X_train, Y_train)\n",
    "    predictions = clf.predict(X_test)\n",
    "    probas = [p[1] for p in clf.predict_proba(X_test)]\n",
    "    \n",
    "    # construct result structures for storing and using the data\n",
    "    df = pd.DataFrame(data={\n",
    "            \"prediction\": predictions,\n",
    "            \"probability\": probas,\n",
    "            \"content_id\": test_cids\n",
    "        })\n",
    "    \n",
    "    # awful hacky/arbitrary combination of personal + generic signals\n",
    "    r = pd.merge(df, userdf[[\"content_id\", \"node_slug\", \"total_score\", \"kind\", \"domain\", \"subject\"]], how=\"inner\")\n",
    "    r[\"pscore\"] = r[\"probability\"]**.5\n",
    "    r[\"general_zscore\"] = (r[\"total_score\"] - r[\"total_score\"].min())/(r[\"total_score\"].max() - r[\"total_score\"].min())\n",
    "    r[\"score\"] = (r[\"pscore\"] + r[\"general_zscore\"])/2\n",
    "    r = r.sort(\"score\", ascending=False)\n",
    "    r[\"kaid\"] = [kaid for i in range(len(r))]\n",
    "    return r\n",
    "\n",
    "def update_user_summary(userdf, kaid, true, prob, summary):\n",
    "    \"\"\"Update the table of single user summary stats.\"\"\"\n",
    "    summary[\"auc\"].append(sklearn.metrics.roc_auc_score(true, prob))\n",
    "    fpr, tpr, _ = sklearn.metrics.roc_curve(true, prob)\n",
    "    summary[\"num_positive\"].append(userdf.engaged.sum())\n",
    "    summary[\"kaid\"].append(kaid)\n",
    "    summary[\"joined\"].append(userdf.joined.max())\n",
    "    summary[\"fpr\"].append(fpr)\n",
    "    summary[\"tpr\"].append(tpr)\n",
    "    return summary\n",
    "\n",
    "def update_validation(kaid, true, pred, prob, validation):\n",
    "    \"\"\"Update the table of full truth vs. prediction stats\"\"\"\n",
    "    validation[\"true\"].extend(true)\n",
    "    validation[\"predicted\"].extend(pred)\n",
    "    validation[\"probability\"].extend(prob)\n",
    "    validation[\"kaid\"].extend([kaid for i in true])\n",
    "    return validation\n",
    "\n",
    "def classification_pipeline(df, top_n=100):\n",
    "    \"\"\"Run a the full classification pipeline to generate data for model evaluation, \n",
    "       and predictions for the recommender system.\"\"\"\n",
    "    \n",
    "    # initialize resulting table data\n",
    "    results = []\n",
    "    validation = {\"true\":[], \"predicted\":[], \"probability\": [], \"kaid\":[]}\n",
    "    summary = {\"auc\":[], \"num_positive\": [], \"kaid\": [], \"joined\": [], \"fpr\":[], \"tpr\":[]}\n",
    "    \n",
    "    # train, evaluate, and predict for each user individually\n",
    "    for kaid in df.kaid.unique():\n",
    "        userdf = df[df[\"kaid\"]==kaid]\n",
    "        if userdf[\"engaged\"].sum() <= 2:\n",
    "            print \"Skipping %s\" % kaid\n",
    "            continue\n",
    "        print \"Running %s\" % kaid\n",
    "        # preprocess data\n",
    "        prepped_data = feature_processing(userdf)\n",
    "        # train and evaluate model\n",
    "        X, Y, _ = split_data(prepped_data)\n",
    "        clf = sklearn.linear_model.LogisticRegression()\n",
    "        true, pred, prob = train_and_evaluate(X, Y, clf)\n",
    "        summary = update_user_summary(userdf, kaid, true, prob, summary)\n",
    "        validation = update_validation(kaid, true, pred, prob, validation)\n",
    "        # train full model + generate predictions\n",
    "        clf = sklearn.linear_model.LogisticRegression()\n",
    "        r = final_predict(kaid, userdf, clf)\n",
    "        results.append(r[:top_n])\n",
    "        \n",
    "    # construct final pandas dataframes\n",
    "    final_df = pd.concat(results)\n",
    "    validation_df = pd.DataFrame(data=validation)\n",
    "    summary_df = pd.DataFrame(data=summary)\n",
    "    return final_df, validation_df, summary_df"
   ]
  },
  {
   "cell_type": "markdown",
   "metadata": {},
   "source": [
    "## Train + Evaluate"
   ]
  },
  {
   "cell_type": "code",
   "execution_count": null,
   "metadata": {
    "collapsed": false
   },
   "outputs": [
    {
     "name": "stderr",
     "output_type": "stream",
     "text": [
      "/usr/local/lib/python2.7/dist-packages/sklearn/metrics/classification.py:1074: UndefinedMetricWarning: F-score is ill-defined and being set to 0.0 due to no predicted samples.\n",
      "  'precision', 'predicted', average, warn_for)\n",
      "/usr/local/lib/python2.7/dist-packages/sklearn/metrics/classification.py:1074: UndefinedMetricWarning: Precision is ill-defined and being set to 0.0 due to no predicted samples.\n",
      "  'precision', 'predicted', average, warn_for)\n",
      "/usr/local/lib/python2.7/dist-packages/ipykernel/__main__.py:114: FutureWarning: sort(columns=....) is deprecated, use sort_values(by=.....)\n"
     ]
    },
    {
     "name": "stdout",
     "output_type": "stream",
     "text": [
      "Skipping kaid_322962904607449063775472\n",
      "Running kaid_615122688051978532432289\n",
      "Running kaid_254884632901887636749179\n",
      "Skipping kaid_972312616504392465407997\n",
      "Running kaid_1021816025188633856726110\n",
      "Running kaid_177300951159445504653755\n",
      "Skipping kaid_19374345126826952044339\n",
      "Running kaid_407089334193359735364153\n",
      "Running kaid_1118218441556727937149064\n",
      "Skipping kaid_556022798793514927715493\n",
      "Skipping kaid_73776605891154008780640\n",
      "Running kaid_175634518858381301723625\n",
      "Running kaid_1055056106831724695622524\n",
      "Running kaid_447317448596630962092364\n",
      "Running kaid_226668233168615918510403\n",
      "Running kaid_126074402873291901558842\n",
      "Running kaid_694790541833528675386594\n",
      "Skipping kaid_1127696500567694409297156\n",
      "Running kaid_13656233299547006357001\n",
      "Skipping kaid_244119897602537658027200\n",
      "Running kaid_889915840622529423015409\n",
      "Running kaid_533239023227152353322535\n",
      "Running kaid_1026042980439454106016074\n",
      "Skipping kaid_325374501095247410801428\n",
      "Running kaid_456480905066980070292764\n",
      "Skipping kaid_192151328833642449115110\n",
      "Skipping kaid_84186644625651643679014\n",
      "Skipping kaid_1119520567302279872320347\n",
      "Skipping kaid_285230491758368655281723\n",
      "Running kaid_648373831964934217422125\n",
      "Skipping kaid_743766538369022350210895\n",
      "Running kaid_214303719021699868345243\n",
      "Running kaid_254055068707854738433899\n",
      "Running kaid_64106671508171806375507\n",
      "Skipping kaid_545540379645660246145069\n",
      "Running kaid_1062671325681245941021773\n",
      "Running kaid_246055050700925088152197\n",
      "Running kaid_501599264806630055935480\n",
      "Running kaid_1122329085994269647165893\n",
      "Skipping kaid_940224542961683573027986\n",
      "Running kaid_892263733480050244282033\n",
      "Running kaid_1125100843960839589593697\n",
      "Running kaid_501920967310323204258717\n",
      "Running kaid_58534003415733153218396\n",
      "Skipping kaid_1123648069412520665874207\n",
      "Running kaid_868898711767421875473793\n",
      "Running kaid_1052100867852720156546772\n",
      "Running kaid_823278597347115336926387\n",
      "Running kaid_119374797833378646010631\n",
      "Running kaid_654088764374228011666494\n",
      "Skipping kaid_772947842742359777683916\n",
      "Running kaid_489335300841173909571974\n",
      "Skipping kaid_606579190726124429723926\n",
      "Running kaid_811067182012437984969994\n",
      "Running kaid_47871280375790675048719\n",
      "Running kaid_1153757574839377431023960\n",
      "Running kaid_495873561237902626053420\n",
      "Running kaid_227459258060562838014659\n",
      "Skipping kaid_988944226525128615460921\n",
      "Running kaid_388875884404163674437185\n",
      "Running kaid_42212212109433004400296\n",
      "Running kaid_948469821003117765366936\n",
      "Running kaid_984832938996648580335358\n",
      "Skipping kaid_290657002422660855950247\n",
      "Skipping kaid_1153336294682633813125123\n",
      "Skipping kaid_998355490805291061907581\n",
      "Running kaid_1180652873038472009250875\n",
      "Running kaid_300206406872614661774357\n",
      "Running kaid_664074153260363528223780\n",
      "Skipping kaid_345400575700767057989355\n",
      "Skipping kaid_445865885051156546517178\n",
      "Running kaid_723060387184230234615652\n",
      "Running kaid_383406659075524741468894\n",
      "Running kaid_708334925242068561270111\n",
      "Skipping kaid_911339152645296679773163\n",
      "Running kaid_150790587970262881988680\n",
      "Running kaid_1116753190679129916060198\n",
      "Skipping kaid_1106386709890039248044024\n",
      "Running kaid_121658591999225979575457\n",
      "Running kaid_627620453393336374322232\n",
      "Running kaid_906983633787217430498350\n",
      "Running kaid_1191210916651667609836716\n",
      "Running kaid_671890100872033226989013\n",
      "Running kaid_178131793263413285236621\n",
      "Running kaid_117830456844565652389833\n",
      "Running kaid_1201546805945210805881428\n",
      "Skipping kaid_667583961928025118712059\n",
      "Skipping kaid_907719073708591576222492\n",
      "Skipping kaid_130005627098908667476885\n",
      "Skipping kaid_11526414680411168424449\n",
      "Skipping kaid_11081676693564563537834\n",
      "Skipping kaid_224532872513214809867097\n",
      "Running kaid_1047156263735473840717453\n",
      "Running kaid_473203674798532863454026\n",
      "Skipping kaid_789794698556175322518798\n",
      "Running kaid_668703183939960114219835\n",
      "Skipping kaid_180706567931426476315946\n",
      "Running kaid_86473285108773088443974\n",
      "Skipping kaid_646404689686985898578969\n",
      "Skipping kaid_1029804019778862851378411\n"
     ]
    }
   ],
   "outputs": [],
   "source": [
    "final_df, validation_df, summary_df = classification_pipeline(df)"
   ]
  },
  {
   "cell_type": "code",
   "execution_count": 11,
   "metadata": {
    "collapsed": false
   },
   "outputs": [
    {
     "data": {
      "text/html": [
       "<div>\n",
       "<table border=\"1\" class=\"dataframe\">\n",
       "  <thead>\n",
       "    <tr style=\"text-align: right;\">\n",
       "      <th></th>\n",
       "      <th>content_id</th>\n",
       "      <th>prediction</th>\n",
       "      <th>probability</th>\n",
       "      <th>node_slug</th>\n",
       "      <th>total_score</th>\n",
       "      <th>kind</th>\n",
       "      <th>domain</th>\n",
       "      <th>subject</th>\n",
       "      <th>pscore</th>\n",
       "      <th>general_zscore</th>\n",
       "      <th>score</th>\n",
       "      <th>kaid</th>\n",
       "    </tr>\n",
       "  </thead>\n",
       "  <tbody>\n",
       "    <tr>\n",
       "      <th>683</th>\n",
       "      <td>x7aa228af</td>\n",
       "      <td>1</td>\n",
       "      <td>0.701305</td>\n",
       "      <td>v/programming-intro</td>\n",
       "      <td>48.840667</td>\n",
       "      <td>Video</td>\n",
       "      <td>computing</td>\n",
       "      <td>computer-programming</td>\n",
       "      <td>0.837439</td>\n",
       "      <td>1.000000</td>\n",
       "      <td>0.918720</td>\n",
       "      <td>kaid_615122688051978532432289</td>\n",
       "    </tr>\n",
       "    <tr>\n",
       "      <th>768</th>\n",
       "      <td>2600769</td>\n",
       "      <td>0</td>\n",
       "      <td>0.132428</td>\n",
       "      <td>v/adding-fractions-with-unlike-denominators</td>\n",
       "      <td>31.792000</td>\n",
       "      <td>Video</td>\n",
       "      <td>math</td>\n",
       "      <td>fr-seventh-grade-math</td>\n",
       "      <td>0.363907</td>\n",
       "      <td>0.636541</td>\n",
       "      <td>0.500224</td>\n",
       "      <td>kaid_615122688051978532432289</td>\n",
       "    </tr>\n",
       "    <tr>\n",
       "      <th>397</th>\n",
       "      <td>2600759</td>\n",
       "      <td>0</td>\n",
       "      <td>0.083351</td>\n",
       "      <td>v/multiplying-fractions</td>\n",
       "      <td>27.366000</td>\n",
       "      <td>Video</td>\n",
       "      <td>math</td>\n",
       "      <td>arithmetic</td>\n",
       "      <td>0.288707</td>\n",
       "      <td>0.542183</td>\n",
       "      <td>0.415445</td>\n",
       "      <td>kaid_615122688051978532432289</td>\n",
       "    </tr>\n",
       "    <tr>\n",
       "      <th>578</th>\n",
       "      <td>183171788</td>\n",
       "      <td>0</td>\n",
       "      <td>0.045065</td>\n",
       "      <td>v/elements-and-atoms</td>\n",
       "      <td>23.590667</td>\n",
       "      <td>Video</td>\n",
       "      <td>science</td>\n",
       "      <td>chemistry</td>\n",
       "      <td>0.212285</td>\n",
       "      <td>0.461697</td>\n",
       "      <td>0.336991</td>\n",
       "      <td>kaid_615122688051978532432289</td>\n",
       "    </tr>\n",
       "    <tr>\n",
       "      <th>67</th>\n",
       "      <td>19647488</td>\n",
       "      <td>0</td>\n",
       "      <td>0.060904</td>\n",
       "      <td>v/negative-numbers-introduction</td>\n",
       "      <td>21.036000</td>\n",
       "      <td>Video</td>\n",
       "      <td>math</td>\n",
       "      <td>pre-algebra</td>\n",
       "      <td>0.246786</td>\n",
       "      <td>0.407234</td>\n",
       "      <td>0.327010</td>\n",
       "      <td>kaid_615122688051978532432289</td>\n",
       "    </tr>\n",
       "  </tbody>\n",
       "</table>\n",
       "</div>"
      ],
      "text/plain": [
       "    content_id  prediction  probability  \\\n",
       "683  x7aa228af           1     0.701305   \n",
       "768    2600769           0     0.132428   \n",
       "397    2600759           0     0.083351   \n",
       "578  183171788           0     0.045065   \n",
       "67    19647488           0     0.060904   \n",
       "\n",
       "                                       node_slug  total_score   kind  \\\n",
       "683                          v/programming-intro    48.840667  Video   \n",
       "768  v/adding-fractions-with-unlike-denominators    31.792000  Video   \n",
       "397                      v/multiplying-fractions    27.366000  Video   \n",
       "578                         v/elements-and-atoms    23.590667  Video   \n",
       "67               v/negative-numbers-introduction    21.036000  Video   \n",
       "\n",
       "        domain                subject    pscore  general_zscore     score  \\\n",
       "683  computing   computer-programming  0.837439        1.000000  0.918720   \n",
       "768       math  fr-seventh-grade-math  0.363907        0.636541  0.500224   \n",
       "397       math             arithmetic  0.288707        0.542183  0.415445   \n",
       "578    science              chemistry  0.212285        0.461697  0.336991   \n",
       "67        math            pre-algebra  0.246786        0.407234  0.327010   \n",
       "\n",
       "                              kaid  \n",
       "683  kaid_615122688051978532432289  \n",
       "768  kaid_615122688051978532432289  \n",
       "397  kaid_615122688051978532432289  \n",
       "578  kaid_615122688051978532432289  \n",
       "67   kaid_615122688051978532432289  "
      ]
     },
     "execution_count": 11,
     "metadata": {},
     "output_type": "execute_result"
    }
   ],
   "execution_count": null,
   "metadata": {
    "collapsed": false
   },
   "outputs": [],
   "source": [
    "sns.jointplot(final_df.probability, final_df.total_score)"
   ]
  },
  {
   "cell_type": "code",
   "execution_count": null,
   "metadata": {
    "collapsed": false
   },
   "outputs": [],
   "source": [
    "final_df.head()"
   ]
  },
  {
   "cell_type": "code",
   "execution_count": 37,
  },
  {
   "cell_type": "code",
   "execution_count": null,
   "metadata": {
    "collapsed": false
   },
   "outputs": [],
   "source": [
    "fpr, tpr, thresholds = sklearn.metrics.roc_curve(validation_df[\"true\"], validation_df[\"probability\"])\n",
    "print sklearn.metrics.roc_auc_score(validation_df[\"true\"], validation_df[\"probability\"])"
   ]
  },
  {
   "cell_type": "code",
   "execution_count": null,
   "metadata": {
    "collapsed": false
   },
   "outputs": [],
   "source": [
    "f,ax = plt.subplots(figsize=[4,4])\n",
    "plt.scatter(fpr, tpr)\n",
    "plt.ylim([-.02,1.02])\n",
    "plt.xlim([-.02,1.02])"
   ]
  },
  {
   "cell_type": "code",
   "execution_count": null,
   "metadata": {
    "collapsed": false
   },
   "outputs": [],
   "source": [
    "m = summary_df.auc.mean()\n",
    "se = summary_df.auc.std(dof=0)/np.sqrt(len(summary_df))\n",
    "#plt.bar([0], [m], yerr=[se])\n",
    "print m, se"
   ]
  },
  {
   "cell_type": "code",
   "execution_count": 21,
   "metadata": {
    "collapsed": false
   },
   "outputs": [
    {
     "data": {
      "text/plain": [
       "<matplotlib.axes._subplots.AxesSubplot at 0x7f6ec21a1910>"
      ]
     },
     "execution_count": 21,
     "metadata": {},
     "output_type": "execute_result"
    },
    {
     "data": {
      "image/png": "iVBORw0KGgoAAAANSUhEUgAAAXgAAADLCAYAAABktIjJAAAABHNCSVQICAgIfAhkiAAAAAlwSFlz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\nAQ8AliLgAcBS/wfuGZQQUgoxKgAAAABJRU5ErkJggg==\n",
      "text/plain": [
       "<matplotlib.figure.Figure at 0x7f6ec235afd0>"
      ]
     },
     "metadata": {},
     "output_type": "display_data"
    }
   ],
   "execution_count": null,
   "metadata": {
    "collapsed": false
   },
   "outputs": [],
   "source": [
    "summary_df.auc.hist(bins=25, figsize=[6,3])"
   ]
  },
  {
   "cell_type": "code",
   "execution_count": null,
   "metadata": {
    "collapsed": false
   },
   "outputs": [],
   "source": [
    "sns.jointplot(\"auc\", \"num_positive\", summary_df)"
   ]
  },
  {
   "cell_type": "markdown",
   "metadata": {
    "collapsed": false
   },
   "cell_type": "code",
   "execution_count": null,
   "metadata": {
    "collapsed": false
   },
   "outputs": [],
   "source": [
    "f, ax = plt.subplots(figsize=[4,4])\n",
    "for i, row in summary_df[:10].iterrows():\n",
    "    f, ax = plt.subplots(figsize=[4,4])\n",
    "    plt.scatter(row[\"fpr\"], row[\"tpr\"])\n",
    "    plt.title(row[\"kaid\"])\n",
    "    plt.ylim([-.02,1.02])\n",
    "    plt.xlim([-.02,1.02])"
   ]
  },
  {
   "cell_type": "code",
   "execution_count": null,
   "metadata": {
    "collapsed": true
   },
   "outputs": [],
   "source": []
  },
  {
   "cell_type": "markdown",
   "metadata": {},
   "source": [
    "## Save predictions back to BigQuery"
   ]
  },
  {
   "cell_type": "code",
   "execution_count": null,
   "metadata": {
    "collapsed": true
   },
   "outputs": [],
   "source": [
    "for kaid in final_df.kaid.unique():\n",
    "    print kaid\n",
    "    print final_df[final_df[\"kaid\"]==kaid][:10][\"node_slug\"].values"
   ]
  },
  {
   "cell_type": "code",
   "execution_count": 12,
   "metadata": {
    "collapsed": true
   },
   "outputs": [],
   "source": [
    "variables = [\"kaid\", \"kind\", \"content_id\", \"node_slug\", \"domain\", \"subject\", \"probability\", \"prediction\", \"score\"]\n",
    "predictions_to_save = final_df[variables]"
   ]
  },
  {
   "cell_type": "code",
   "execution_count": 36,
   "metadata": {
    "collapsed": false
   },
   "outputs": [
    {
     "name": "stdout",
     "output_type": "stream",
     "text": [
      "Streaming Insert is 15% Complete\n",
      "Streaming Insert is 31% Complete\n",
      "Streaming Insert is 46% Complete\n",
      "Streaming Insert is 62% Complete\n",
      "Streaming Insert is 78% Complete\n",
      "Streaming Insert is 93% Complete\n",
      "Streaming Insert is 100% Complete\n",
      "\n"
     ]
    }
   ],
   "execution_count": null,
   "metadata": {
    "collapsed": false
   },
   "outputs": [],
   "source": [
    "import util.secrets\n",
    "util.bq_util.upload_df_to_bq(bq, predictions_to_save, util.secrets.BIGQUERY_PROJECT_ID, DATASET, PREDICTION_TABLE, 1000)"
   ]
  },
  {
   "cell_type": "code",
   "execution_count": null,
   "metadata": {
    "collapsed": false
   },
   "outputs": [],
   "source": [
    "reload(util.bq_util)"
   ]
  },
  {
   "cell_type": "code",
   "execution_count": null,
   "metadata": {
    "collapsed": true
   },
   "outputs": [],
   "source": []
  }
 ],
 "metadata": {
  "kernelspec": {
   "display_name": "Python 2",
   "language": "python",
   "name": "python2"
  },
  "language_info": {
   "codemirror_mode": {
    "name": "ipython",
    "version": 2
   },
   "file_extension": ".py",
   "mimetype": "text/x-python",
   "name": "python",
   "nbconvert_exporter": "python",
   "pygments_lexer": "ipython2",
   "version": "2.7.6"
  }
 },
 "nbformat": 4,
 "nbformat_minor": 0
}
