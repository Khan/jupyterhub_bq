{
 "cells": [
  {
   "cell_type": "code",
   "execution_count": 1,
   "metadata": {
    "collapsed": false
   },
   "outputs": [
    {
     "name": "stdout",
     "output_type": "stream",
     "text": [
      "Populating the interactive namespace from numpy and matplotlib\n"
     ]
    }
   ],
   "source": [
    "%pylab inline"
   ]
  },
  {
   "cell_type": "code",
   "execution_count": 4,
   "metadata": {
    "collapsed": false
   },
   "outputs": [],
   "source": [
    "import pandas as pd\n",
    "import numpy as np\n",
    "import matplotlib.pyplot as plt\n",
    "import sklearn.linear_model\n",
    "import sklearn.cross_validation\n",
    "import sklearn.metrics\n",
    "import seaborn as sns\n",
    "import sys\n",
    "sys.path.append('..')\n",
    "import util.bq_util"
   ]
  },
  {
   "cell_type": "markdown",
   "metadata": {},
   "source": [
    "## Load up some data"
   ]
  },
  {
   "cell_type": "code",
   "execution_count": 5,
   "metadata": {
    "collapsed": false
   },
   "outputs": [
    {
     "name": "stdout",
     "output_type": "stream",
     "text": [
      "Authenticating with BigQuery and GCS...\n",
      "Go to the following link in your browser:\n",
      "\n",
      "    https://accounts.google.com/o/oauth2/auth?scope=https%3A%2F%2Fwww.googleapis.com%2Fauth%2Fbigquery&redirect_uri=urn%3Aietf%3Awg%3Aoauth%3A2.0%3Aoob&response_type=code&client_id=124072386181-qqedvnl36ver0khc3pmqbh4bevlh58qd.apps.googleusercontent.com&access_type=offline\n",
      "\n",
      "Enter verification code: 4/NwX_SdAbLpRgFUQUHaam-txLfdM0O7SQypvr3juM33M\n",
      "Authentication successful.\n"
     ]
    }
   ],
   "source": [
    "bq, gcs = util.bq_util.get_authed_clients()"
   ]
  },
  {
   "cell_type": "code",
   "execution_count": 6,
   "metadata": {
    "collapsed": false
   },
   "outputs": [
    {
     "data": {
      "text/plain": [
       "{u'etag': u'\"nwg3tKAm7RiC5vqWthFIuCNSGxs/0sZAE3h2VCvmDxTTIfcTfdHq7H8\"',\n",
       " u'kind': u'bigquery#tableList',\n",
       " u'tables': [{u'id': u'khanacademy.org:deductive-jet-827:recommendations.condition_assignments',\n",
       "   u'kind': u'bigquery#table',\n",
       "   u'tableReference': {u'datasetId': u'recommendations',\n",
       "    u'projectId': u'khanacademy.org:deductive-jet-827',\n",
       "    u'tableId': u'condition_assignments'},\n",
       "   u'type': u'TABLE'},\n",
       "  {u'id': u'khanacademy.org:deductive-jet-827:recommendations.content_summary',\n",
       "   u'kind': u'bigquery#table',\n",
       "   u'tableReference': {u'datasetId': u'recommendations',\n",
       "    u'projectId': u'khanacademy.org:deductive-jet-827',\n",
       "    u'tableId': u'content_summary'},\n",
       "   u'type': u'TABLE'},\n",
       "  {u'id': u'khanacademy.org:deductive-jet-827:recommendations.content_usage',\n",
       "   u'kind': u'bigquery#table',\n",
       "   u'tableReference': {u'datasetId': u'recommendations',\n",
       "    u'projectId': u'khanacademy.org:deductive-jet-827',\n",
       "    u'tableId': u'content_usage'},\n",
       "   u'type': u'TABLE'},\n",
       "  {u'id': u'khanacademy.org:deductive-jet-827:recommendations.featured_video_clicks',\n",
       "   u'kind': u'bigquery#table',\n",
       "   u'tableReference': {u'datasetId': u'recommendations',\n",
       "    u'projectId': u'khanacademy.org:deductive-jet-827',\n",
       "    u'tableId': u'featured_video_clicks'},\n",
       "   u'type': u'TABLE'},\n",
       "  {u'id': u'khanacademy.org:deductive-jet-827:recommendations.popularity_summary',\n",
       "   u'kind': u'bigquery#table',\n",
       "   u'tableReference': {u'datasetId': u'recommendations',\n",
       "    u'projectId': u'khanacademy.org:deductive-jet-827',\n",
       "    u'tableId': u'popularity_summary'},\n",
       "   u'type': u'TABLE'},\n",
       "  {u'id': u'khanacademy.org:deductive-jet-827:recommendations.predictions',\n",
       "   u'kind': u'bigquery#table',\n",
       "   u'tableReference': {u'datasetId': u'recommendations',\n",
       "    u'projectId': u'khanacademy.org:deductive-jet-827',\n",
       "    u'tableId': u'predictions'},\n",
       "   u'type': u'TABLE'},\n",
       "  {u'id': u'khanacademy.org:deductive-jet-827:recommendations.recent_content_age',\n",
       "   u'kind': u'bigquery#table',\n",
       "   u'tableReference': {u'datasetId': u'recommendations',\n",
       "    u'projectId': u'khanacademy.org:deductive-jet-827',\n",
       "    u'tableId': u'recent_content_age'},\n",
       "   u'type': u'TABLE'},\n",
       "  {u'id': u'khanacademy.org:deductive-jet-827:recommendations.user_training_data',\n",
       "   u'kind': u'bigquery#table',\n",
       "   u'tableReference': {u'datasetId': u'recommendations',\n",
       "    u'projectId': u'khanacademy.org:deductive-jet-827',\n",
       "    u'tableId': u'user_training_data'},\n",
       "   u'type': u'TABLE'},\n",
       "  {u'id': u'khanacademy.org:deductive-jet-827:recommendations.user_usage_history',\n",
       "   u'kind': u'bigquery#table',\n",
       "   u'tableReference': {u'datasetId': u'recommendations',\n",
       "    u'projectId': u'khanacademy.org:deductive-jet-827',\n",
       "    u'tableId': u'user_usage_history'},\n",
       "   u'type': u'TABLE'}],\n",
       " u'totalItems': 9}"
      ]
     },
     "execution_count": 6,
     "metadata": {},
     "output_type": "execute_result"
    }
   ],
   "source": [
    "bq.tables().list(projectId=\"khanacademy.org:deductive-jet-827\", datasetId=\"recommendations\").execute()"
   ]
  },
  {
   "cell_type": "code",
   "execution_count": null,
   "metadata": {
    "collapsed": true
   },
   "outputs": [],
   "source": [
    "util.bq_util.list_files_in_gcs_bucket(gcs, \"ka_users/amy/subject_metrics_output\")"
   ]
  },
  {
   "cell_type": "markdown",
   "metadata": {},
   "source": [
    "## Train + Evaluate"
   ]
  },
  {
   "cell_type": "markdown",
   "metadata": {},
   "source": [
    "## Save predictions back to BigQuery"
   ]
  },
  {
   "cell_type": "code",
   "execution_count": null,
   "metadata": {
    "collapsed": true
   },
   "outputs": [],
   "source": []
  }
 ],
 "metadata": {
  "kernelspec": {
   "display_name": "Python 2",
   "language": "python",
   "name": "python2"
  },
  "language_info": {
   "codemirror_mode": {
    "name": "ipython",
    "version": 2
   },
   "file_extension": ".py",
   "mimetype": "text/x-python",
   "name": "python",
   "nbconvert_exporter": "python",
   "pygments_lexer": "ipython2",
   "version": "2.7.6"
  }
 },
 "nbformat": 4,
 "nbformat_minor": 0
}
