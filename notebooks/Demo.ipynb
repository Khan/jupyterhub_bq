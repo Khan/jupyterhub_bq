{
 "cells": [
  {
   "cell_type": "markdown",
   "metadata": {},
   "source": [
    "# Quick Demo for kadatasci.ml"
   ]
  },
  {
   "cell_type": "code",
   "execution_count": 1,
   "metadata": {
    "collapsed": true
   },
   "outputs": [],
   "source": [
    "%matplotlib inline"
   ]
  },
  {
   "cell_type": "code",
   "execution_count": 2,
   "metadata": {
    "collapsed": false
   },
   "outputs": [
    {
     "name": "stderr",
     "output_type": "stream",
     "text": [
      "/usr/local/lib/python2.7/dist-packages/matplotlib/__init__.py:872: UserWarning: axes.color_cycle is deprecated and replaced with axes.prop_cycle; please use the latter.\n",
      "  warnings.warn(self.msg_depr % (key, alt_key))\n"
     ]
    }
   ],
   "source": [
    "import sys\n",
    "import matplotlib.pyplot as plt\n",
    "import ipywidgets\n",
    "from IPython.display import display\n",
    "import seaborn as sns\n",
    "sys.path.append(\"..\")\n",
    "import util.bq_util"
   ]
  },
  {
   "cell_type": "markdown",
   "metadata": {},
   "source": [
    "### Authorize clients"
   ]
  },
  {
   "cell_type": "code",
   "execution_count": 3,
   "metadata": {
    "collapsed": false
   },
   "outputs": [
    {
     "name": "stdout",
     "output_type": "stream",
     "text": [
      "Authenticating with BigQuery and GCS...\n",
      "Go to the following link in your browser:\n",
      "\n",
      "    https://accounts.google.com/o/oauth2/auth?scope=https%3A%2F%2Fwww.googleapis.com%2Fauth%2Fbigquery&redirect_uri=urn%3Aietf%3Awg%3Aoauth%3A2.0%3Aoob&response_type=code&client_id=124072386181-qqedvnl36ver0khc3pmqbh4bevlh58qd.apps.googleusercontent.com&access_type=offline\n",
      "\n",
      "Enter verification code: 4/xvx4AzbpREsPQWqLGHj1Pq0_lRT7w0mDMUYEkVFMtw0\n",
      "Authentication successful.\n"
     ]
    }
   ],
   "source": [
    "bq, gcs = util.bq_util.get_authed_clients()"
   ]
  },
  {
   "cell_type": "markdown",
   "metadata": {},
   "source": [
    "### You should now have a bigquery client and a boto client authorized to access GCS"
   ]
  },
  {
   "cell_type": "code",
   "execution_count": 4,
   "metadata": {
    "collapsed": false
   },
   "outputs": [
    {
     "name": "stdout",
     "output_type": "stream",
     "text": [
      "<googleapiclient.discovery.Resource object at 0x7f1476f9d9d0>\n",
      "<module 'boto' from '/usr/local/lib/python2.7/dist-packages/boto/__init__.pyc'>\n"
     ]
    }
   ],
   "source": [
    "print bq\n",
    "print gcs"
   ]
  },
  {
   "cell_type": "markdown",
   "metadata": {},
   "source": [
    "### Construct and execute a query"
   ]
  },
  {
   "cell_type": "code",
   "execution_count": 5,
   "metadata": {
    "collapsed": false
   },
   "outputs": [
    {
     "name": "stdout",
     "output_type": "stream",
     "text": [
      "SELECT * FROM latest_content.topic_tree WHERE domain NOT IN ('sat-v1', 'test-prep')\n"
     ]
    }
   ],
   "source": [
    "exclude = [\"sat-v1\", \"test-prep\"]\n",
    "query = \"\"\"SELECT * FROM latest_content.topic_tree WHERE domain NOT IN ('%s')\"\"\" % (\"', '\".join(exclude))\n",
    "print query"
   ]
  },
  {
   "cell_type": "code",
   "execution_count": 6,
   "metadata": {
    "collapsed": false
   },
   "outputs": [
    {
     "data": {
      "text/html": [
       "<table><tr><th>Job ID</th><th>End time</th><th>Duration</th><th>Rows</th><th>Data size</th><th>Cost</th></tr><tr><td>job__zi096Rn8vg9gkxP_bMPcJgvF84</td><td>2016-01-03 19:16:47</td><td>7</td><td>16,722</td><td>2.4MiB</td><td>0.0¢</td></tr></table>"
      ],
      "text/latex": [
       "\\begin{tabular}{| l | l | l | l | l | l |}\n",
       "Job ID & End time & Duration & Rows & Data size & Cost\\\\\n",
       "job\\_\\_zi096Rn8vg9gkxP\\_bMPcJgvF84 & 2016-01-03 19:16:47 & 7 & 16,722 & 2.4MiB & 0.0\\\\\n",
       "\\end{tabular}"
      ],
      "text/plain": [
       "<util.bq_util.BigQueryResult at 0x7f1476f27d50>"
      ]
     },
     "metadata": {},
     "output_type": "display_data"
    }
   ],
   "source": [
    "topic_tree = util.bq_util.query_to_df(query)"
   ]
  },
  {
   "cell_type": "code",
   "execution_count": 7,
   "metadata": {
    "collapsed": false
   },
   "outputs": [
    {
     "data": {
      "text/html": [
       "<div>\n",
       "<table border=\"1\" class=\"dataframe\">\n",
       "  <thead>\n",
       "    <tr style=\"text-align: right;\">\n",
       "      <th></th>\n",
       "      <th>path_index</th>\n",
       "      <th>domain</th>\n",
       "      <th>subject</th>\n",
       "      <th>topic</th>\n",
       "      <th>tutorial</th>\n",
       "      <th>kind</th>\n",
       "      <th>title</th>\n",
       "      <th>id</th>\n",
       "      <th>node_slug</th>\n",
       "    </tr>\n",
       "  </thead>\n",
       "  <tbody>\n",
       "    <tr>\n",
       "      <th>0</th>\n",
       "      <td>0</td>\n",
       "      <td>partner-content</td>\n",
       "      <td>british-museum</td>\n",
       "      <td>the-americas-bm</td>\n",
       "      <td>meso-central-america-bm</td>\n",
       "      <td>Article</td>\n",
       "      <td>Maya: The Yaxchilán Lintels</td>\n",
       "      <td>xbc158ef1</td>\n",
       "      <td>a/maya-the yaxchiln lintels</td>\n",
       "    </tr>\n",
       "    <tr>\n",
       "      <th>1</th>\n",
       "      <td>0</td>\n",
       "      <td>humanities</td>\n",
       "      <td>prehistoric-art</td>\n",
       "      <td>None</td>\n",
       "      <td>neolithic-art</td>\n",
       "      <td>Article</td>\n",
       "      <td>The Neolithic Revolution</td>\n",
       "      <td>xe7f5ca0a</td>\n",
       "      <td>a/the-neolithic revolution</td>\n",
       "    </tr>\n",
       "    <tr>\n",
       "      <th>2</th>\n",
       "      <td>0</td>\n",
       "      <td>partner-content</td>\n",
       "      <td>CAS-biodiversity</td>\n",
       "      <td>where-biodiversity-is-found</td>\n",
       "      <td>distribution-patterns</td>\n",
       "      <td>Article</td>\n",
       "      <td>Activities: biodiversity distribution patterns</td>\n",
       "      <td>x2531ffd2</td>\n",
       "      <td>a/activities-biodiversity distribution patterns</td>\n",
       "    </tr>\n",
       "    <tr>\n",
       "      <th>3</th>\n",
       "      <td>0</td>\n",
       "      <td>humanities</td>\n",
       "      <td>art-americas</td>\n",
       "      <td>native-north-america</td>\n",
       "      <td>native-american-west</td>\n",
       "      <td>Article</td>\n",
       "      <td>Eastern Shoshone: Hide Painting of the Sun Dan...</td>\n",
       "      <td>x33bb59f9</td>\n",
       "      <td>a/eastern-shoshone hide painting of the sun da...</td>\n",
       "    </tr>\n",
       "    <tr>\n",
       "      <th>4</th>\n",
       "      <td>0</td>\n",
       "      <td>science</td>\n",
       "      <td>biology</td>\n",
       "      <td>cell-signaling</td>\n",
       "      <td>signaling-between-single-celled-organisms</td>\n",
       "      <td>Article</td>\n",
       "      <td>Cell-cell signaling in unicellular organisms</td>\n",
       "      <td>x68823eb9</td>\n",
       "      <td>a/cell-cell signaling in unicellular organisms</td>\n",
       "    </tr>\n",
       "  </tbody>\n",
       "</table>\n",
       "</div>"
      ],
      "text/plain": [
       "   path_index           domain           subject                        topic  \\\n",
       "0           0  partner-content    british-museum              the-americas-bm   \n",
       "1           0       humanities   prehistoric-art                         None   \n",
       "2           0  partner-content  CAS-biodiversity  where-biodiversity-is-found   \n",
       "3           0       humanities      art-americas         native-north-america   \n",
       "4           0          science           biology               cell-signaling   \n",
       "\n",
       "                                    tutorial     kind  \\\n",
       "0                    meso-central-america-bm  Article   \n",
       "1                              neolithic-art  Article   \n",
       "2                      distribution-patterns  Article   \n",
       "3                       native-american-west  Article   \n",
       "4  signaling-between-single-celled-organisms  Article   \n",
       "\n",
       "                                               title         id  \\\n",
       "0                        Maya: The Yaxchilán Lintels  xbc158ef1   \n",
       "1                           The Neolithic Revolution  xe7f5ca0a   \n",
       "2     Activities: biodiversity distribution patterns  x2531ffd2   \n",
       "3  Eastern Shoshone: Hide Painting of the Sun Dan...  x33bb59f9   \n",
       "4       Cell-cell signaling in unicellular organisms  x68823eb9   \n",
       "\n",
       "                                           node_slug  \n",
       "0                        a/maya-the yaxchiln lintels  \n",
       "1                         a/the-neolithic revolution  \n",
       "2    a/activities-biodiversity distribution patterns  \n",
       "3  a/eastern-shoshone hide painting of the sun da...  \n",
       "4     a/cell-cell signaling in unicellular organisms  "
      ]
     },
     "execution_count": 7,
     "metadata": {},
     "output_type": "execute_result"
    }
   ],
   "source": [
    "topic_tree.head()"
   ]
  },
  {
   "cell_type": "markdown",
   "metadata": {},
   "source": [
    "### Plot results"
   ]
  },
  {
   "cell_type": "code",
   "execution_count": 8,
   "metadata": {
    "collapsed": false
   },
   "outputs": [
    {
     "data": {
      "text/plain": [
       "<matplotlib.axes._subplots.AxesSubplot at 0x7f1476aad1d0>"
      ]
     },
     "execution_count": 8,
     "metadata": {},
     "output_type": "execute_result"
    },
    {
     "data": {
      "image/png": "[encoded data removed]",
      "text/plain": [
       "<matplotlib.figure.Figure at 0x7f1476f1db50>"
      ]
     },
     "metadata": {},
     "output_type": "display_data"
    }
   ],
   "source": [
    "f, ax = plt.subplots(figsize=[12,5])\n",
    "plotdata = topic_tree.groupby([\"domain\", \"kind\"]).count().unstack(\"kind\")['id']\n",
    "plotdata.plot(kind=\"bar\", ax=ax, color=sns.color_palette(\"husl\", len(topic_tree.kind.unique())))"
   ]
  },
  {
   "cell_type": "code",
   "execution_count": 9,
   "metadata": {
    "collapsed": false
   },
   "outputs": [],
   "source": [
    "selector = ipywidgets.Dropdown(description=\"Content Type\", options = list(topic_tree.kind.unique()))\n",
    "search = ipywidgets.Text(description=\"Query\", placeholder=\"e.g. equations\")\n",
    "container = ipywidgets.HBox([selector, search])\n",
    "display(container)"
   ]
  },
  {
   "cell_type": "code",
   "execution_count": 11,
   "metadata": {
    "collapsed": false
   },
   "outputs": [
    {
     "data": {
      "text/html": [
       "<div>\n",
       "<table border=\"1\" class=\"dataframe\">\n",
       "  <thead>\n",
       "    <tr style=\"text-align: right;\">\n",
       "      <th></th>\n",
       "      <th>kind</th>\n",
       "      <th>domain</th>\n",
       "      <th>subject</th>\n",
       "      <th>topic</th>\n",
       "      <th>title</th>\n",
       "    </tr>\n",
       "  </thead>\n",
       "  <tbody>\n",
       "    <tr>\n",
       "      <th>4</th>\n",
       "      <td>Article</td>\n",
       "      <td>science</td>\n",
       "      <td>biology</td>\n",
       "      <td>cell-signaling</td>\n",
       "      <td>Cell-cell signaling in unicellular organisms</td>\n",
       "    </tr>\n",
       "    <tr>\n",
       "      <th>87</th>\n",
       "      <td>Article</td>\n",
       "      <td>science</td>\n",
       "      <td>biology</td>\n",
       "      <td>cellular-molecular-biology</td>\n",
       "      <td>Phases of the cell cycle</td>\n",
       "    </tr>\n",
       "    <tr>\n",
       "      <th>132</th>\n",
       "      <td>Article</td>\n",
       "      <td>science</td>\n",
       "      <td>biology</td>\n",
       "      <td>cellular-molecular-biology</td>\n",
       "      <td>Cell cycle regulators</td>\n",
       "    </tr>\n",
       "    <tr>\n",
       "      <th>278</th>\n",
       "      <td>Article</td>\n",
       "      <td>science</td>\n",
       "      <td>biology</td>\n",
       "      <td>cell-signaling</td>\n",
       "      <td>Cellular response</td>\n",
       "    </tr>\n",
       "    <tr>\n",
       "      <th>676</th>\n",
       "      <td>Article</td>\n",
       "      <td>science</td>\n",
       "      <td>biology</td>\n",
       "      <td>structure-of-a-cell</td>\n",
       "      <td>Cell-cell junctions</td>\n",
       "    </tr>\n",
       "    <tr>\n",
       "      <th>727</th>\n",
       "      <td>Article</td>\n",
       "      <td>science</td>\n",
       "      <td>biology</td>\n",
       "      <td>cellular-respiration-and-fermentation</td>\n",
       "      <td>Regulation of cellular respiration</td>\n",
       "    </tr>\n",
       "    <tr>\n",
       "      <th>753</th>\n",
       "      <td>Article</td>\n",
       "      <td>science</td>\n",
       "      <td>biology</td>\n",
       "      <td>cell-signaling</td>\n",
       "      <td>Introduction to cell signaling</td>\n",
       "    </tr>\n",
       "    <tr>\n",
       "      <th>816</th>\n",
       "      <td>Article</td>\n",
       "      <td>science</td>\n",
       "      <td>biology</td>\n",
       "      <td>structure-of-a-cell</td>\n",
       "      <td>Intro to eukaryotic cells</td>\n",
       "    </tr>\n",
       "    <tr>\n",
       "      <th>837</th>\n",
       "      <td>Article</td>\n",
       "      <td>humanities</td>\n",
       "      <td>art-americas</td>\n",
       "      <td>british-colonies</td>\n",
       "      <td>Jefferson, Monticello</td>\n",
       "    </tr>\n",
       "    <tr>\n",
       "      <th>898</th>\n",
       "      <td>Article</td>\n",
       "      <td>science</td>\n",
       "      <td>biology</td>\n",
       "      <td>cellular-molecular-biology</td>\n",
       "      <td>Cell cycle checkpoints</td>\n",
       "    </tr>\n",
       "    <tr>\n",
       "      <th>1001</th>\n",
       "      <td>Article</td>\n",
       "      <td>science</td>\n",
       "      <td>biology</td>\n",
       "      <td>cellular-respiration-and-fermentation</td>\n",
       "      <td>Steps of cellular respiration</td>\n",
       "    </tr>\n",
       "    <tr>\n",
       "      <th>8324</th>\n",
       "      <td>Article</td>\n",
       "      <td>science</td>\n",
       "      <td>biology</td>\n",
       "      <td>structure-of-a-cell</td>\n",
       "      <td>Intro to cells</td>\n",
       "    </tr>\n",
       "    <tr>\n",
       "      <th>8486</th>\n",
       "      <td>Article</td>\n",
       "      <td>science</td>\n",
       "      <td>biology</td>\n",
       "      <td>cellular-respiration-and-fermentation</td>\n",
       "      <td>Connections between cellular respiration and o...</td>\n",
       "    </tr>\n",
       "    <tr>\n",
       "      <th>8501</th>\n",
       "      <td>Article</td>\n",
       "      <td>science</td>\n",
       "      <td>biology</td>\n",
       "      <td>cellular-molecular-biology</td>\n",
       "      <td>Cancer and the cell cycle</td>\n",
       "    </tr>\n",
       "    <tr>\n",
       "      <th>8687</th>\n",
       "      <td>Article</td>\n",
       "      <td>humanities</td>\n",
       "      <td>renaissance-reformation</td>\n",
       "      <td>early-renaissance1</td>\n",
       "      <td>Alberti, Palazzo Rucellai</td>\n",
       "    </tr>\n",
       "    <tr>\n",
       "      <th>8834</th>\n",
       "      <td>Article</td>\n",
       "      <td>science</td>\n",
       "      <td>biology</td>\n",
       "      <td>cell-signaling</td>\n",
       "      <td>Intracellular signal transduction</td>\n",
       "    </tr>\n",
       "    <tr>\n",
       "      <th>9179</th>\n",
       "      <td>Article</td>\n",
       "      <td>science</td>\n",
       "      <td>biology</td>\n",
       "      <td>structure-of-a-cell</td>\n",
       "      <td>Prokaryotic cells</td>\n",
       "    </tr>\n",
       "    <tr>\n",
       "      <th>9299</th>\n",
       "      <td>Article</td>\n",
       "      <td>science</td>\n",
       "      <td>biology</td>\n",
       "      <td>structure-of-a-cell</td>\n",
       "      <td>The extracellular matrix and cell wall</td>\n",
       "    </tr>\n",
       "    <tr>\n",
       "      <th>9355</th>\n",
       "      <td>Article</td>\n",
       "      <td>science</td>\n",
       "      <td>biology</td>\n",
       "      <td>cellular-respiration-and-fermentation</td>\n",
       "      <td>Introduction to cellular respiration and redox</td>\n",
       "    </tr>\n",
       "  </tbody>\n",
       "</table>\n",
       "</div>"
      ],
      "text/plain": [
       "         kind      domain                  subject  \\\n",
       "4     Article     science                  biology   \n",
       "87    Article     science                  biology   \n",
       "132   Article     science                  biology   \n",
       "278   Article     science                  biology   \n",
       "676   Article     science                  biology   \n",
       "727   Article     science                  biology   \n",
       "753   Article     science                  biology   \n",
       "816   Article     science                  biology   \n",
       "837   Article  humanities             art-americas   \n",
       "898   Article     science                  biology   \n",
       "1001  Article     science                  biology   \n",
       "8324  Article     science                  biology   \n",
       "8486  Article     science                  biology   \n",
       "8501  Article     science                  biology   \n",
       "8687  Article  humanities  renaissance-reformation   \n",
       "8834  Article     science                  biology   \n",
       "9179  Article     science                  biology   \n",
       "9299  Article     science                  biology   \n",
       "9355  Article     science                  biology   \n",
       "\n",
       "                                      topic  \\\n",
       "4                            cell-signaling   \n",
       "87               cellular-molecular-biology   \n",
       "132              cellular-molecular-biology   \n",
       "278                          cell-signaling   \n",
       "676                     structure-of-a-cell   \n",
       "727   cellular-respiration-and-fermentation   \n",
       "753                          cell-signaling   \n",
       "816                     structure-of-a-cell   \n",
       "837                        british-colonies   \n",
       "898              cellular-molecular-biology   \n",
       "1001  cellular-respiration-and-fermentation   \n",
       "8324                    structure-of-a-cell   \n",
       "8486  cellular-respiration-and-fermentation   \n",
       "8501             cellular-molecular-biology   \n",
       "8687                     early-renaissance1   \n",
       "8834                         cell-signaling   \n",
       "9179                    structure-of-a-cell   \n",
       "9299                    structure-of-a-cell   \n",
       "9355  cellular-respiration-and-fermentation   \n",
       "\n",
       "                                                  title  \n",
       "4          Cell-cell signaling in unicellular organisms  \n",
       "87                             Phases of the cell cycle  \n",
       "132                               Cell cycle regulators  \n",
       "278                                   Cellular response  \n",
       "676                                 Cell-cell junctions  \n",
       "727                  Regulation of cellular respiration  \n",
       "753                      Introduction to cell signaling  \n",
       "816                           Intro to eukaryotic cells  \n",
       "837                               Jefferson, Monticello  \n",
       "898                              Cell cycle checkpoints  \n",
       "1001                      Steps of cellular respiration  \n",
       "8324                                     Intro to cells  \n",
       "8486  Connections between cellular respiration and o...  \n",
       "8501                          Cancer and the cell cycle  \n",
       "8687                          Alberti, Palazzo Rucellai  \n",
       "8834                  Intracellular signal transduction  \n",
       "9179                                  Prokaryotic cells  \n",
       "9299             The extracellular matrix and cell wall  \n",
       "9355     Introduction to cellular respiration and redox  "
      ]
     },
     "execution_count": 11,
     "metadata": {},
     "output_type": "execute_result"
    }
   ],
   "source": [
    "columns = [\"kind\", \"domain\", \"subject\", \"topic\", \"title\"]\n",
    "topic_tree[\n",
    "    (topic_tree[\"kind\"]==selector.selected_label) & \n",
    "    (topic_tree[\"title\"].apply(lambda x: search.value.lower() in x.lower()))\n",
    "    ][columns]"
   ]
  },
  {
   "cell_type": "code",
   "execution_count": null,
   "metadata": {
    "collapsed": true
   },
   "outputs": [],
   "source": []
  }
 ],
 "metadata": {
  "kernelspec": {
   "display_name": "Python 2",
   "language": "python",
   "name": "python2"
  },
  "language_info": {
   "codemirror_mode": {
    "name": "ipython",
    "version": 2
   },
   "file_extension": ".py",
   "mimetype": "text/x-python",
   "name": "python",
   "nbconvert_exporter": "python",
   "pygments_lexer": "ipython2",
   "version": "2.7.6"
  }
 },
 "nbformat": 4,
 "nbformat_minor": 0
}
