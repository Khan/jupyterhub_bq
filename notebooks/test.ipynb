{
 "cells": [
  {
   "cell_type": "code",
   "execution_count": 1,
   "metadata": {
    "collapsed": false
   },
   "outputs": [
    {
     "name": "stdout",
     "output_type": "stream",
     "text": [
      "2.7.10 (default, Jul 14 2015, 19:46:27) \n",
      "[GCC 4.2.1 Compatible Apple LLVM 6.0 (clang-600.0.39)]\n"
     ]
    }
   ],
   "source": [
    "import sys\n",
    "print sys.version"
   ]
  },
  {
   "cell_type": "code",
   "execution_count": 2,
   "metadata": {
    "collapsed": true
   },
   "outputs": [],
   "source": [
    "%matplotlib inline"
   ]
  },
  {
   "cell_type": "code",
   "execution_count": 3,
   "metadata": {
    "collapsed": false
   },
   "outputs": [],
   "source": [
    "import ipywidgets\n",
    "from IPython.display import display\n",
    "x = ipywidgets.Button(description=\"test\", button_style=\"info\")\n",
    "display(x)"
   ]
  },
  {
   "cell_type": "code",
   "execution_count": 4,
   "metadata": {
    "collapsed": false
   },
   "outputs": [],
   "source": [
    "import pandas\n",
    "import sklearn\n",
    "import numpy\n",
    "import scipy"
   ]
  },
  {
   "cell_type": "code",
   "execution_count": 5,
   "metadata": {
    "collapsed": false
   },
   "outputs": [],
   "source": [
    "import matplotlib.pyplot as plt\n",
    "import seaborn"
   ]
  },
  {
   "cell_type": "code",
   "execution_count": 6,
   "metadata": {
    "collapsed": false
   },
   "outputs": [
    {
     "data": {
      "text/plain": [
       "<Container object of 3 artists>"
      ]
     },
     "execution_count": 6,
     "metadata": {},
     "output_type": "execute_result"
    },
    {
     "data": {
      "image/png": "[encoded data removed]",
      "text/plain": [
       "<matplotlib.figure.Figure at 0x10da6fdd0>"
      ]
     },
     "metadata": {},
     "output_type": "display_data"
    }
   ],
   "source": [
    "plt.bar([1,2,3], [1,2,3])"
   ]
  },
  {
   "cell_type": "code",
   "execution_count": 7,
   "metadata": {
    "collapsed": false
   },
   "outputs": [],
   "source": [
    "import googleapiclient\n",
    "import boto"
   ]
  },
  {
   "cell_type": "code",
   "execution_count": 8,
   "metadata": {
    "collapsed": false
   },
   "outputs": [],
   "source": [
    "import util.bq_util"
   ]
  },
  {
   "cell_type": "code",
   "execution_count": 9,
   "metadata": {
    "collapsed": false
   },
   "outputs": [
    {
     "name": "stdout",
     "output_type": "stream",
     "text": [
      "Authenticating with BigQuery and GCS...\n",
      "Go to the following link in your browser:\n",
      "\n",
      "    https://accounts.google.com/o/oauth2/auth?scope=https%3A%2F%2Fwww.googleapis.com%2Fauth%2Fbigquery&redirect_uri=urn%3Aietf%3Awg%3Aoauth%3A2.0%3Aoob&response_type=code&client_id=124072386181-qqedvnl36ver0khc3pmqbh4bevlh58qd.apps.googleusercontent.com&access_type=offline\n",
      "\n",
      "Enter verification code: 4/mJ2I8355D43-zdqGPxUoss2ZCaPy6PS6hAAbroIgS2I\n",
      "Authentication successful.\n"
     ]
    }
   ],
   "source": [
    "bq, gcs = util.bq_util.get_authed_clients()"
   ]
  },
  {
   "cell_type": "code",
   "execution_count": 10,
   "metadata": {
    "collapsed": false
   },
   "outputs": [
    {
     "data": {
      "text/plain": [
       "{u'datasets': [{u'datasetReference': {u'datasetId': u'2014_03_01',\n",
       "    u'projectId': u'khanacademy.org:deductive-jet-827'},\n",
       "   u'friendlyName': u'2014_03_01',\n",
       "   u'id': u'khanacademy.org:deductive-jet-827:2014_03_01',\n",
       "   u'kind': u'bigquery#dataset'},\n",
       "  {u'datasetReference': {u'datasetId': u'2014_06_07',\n",
       "    u'projectId': u'khanacademy.org:deductive-jet-827'},\n",
       "   u'friendlyName': u'2014_06_07',\n",
       "   u'id': u'khanacademy.org:deductive-jet-827:2014_06_07',\n",
       "   u'kind': u'bigquery#dataset'},\n",
       "  {u'datasetReference': {u'datasetId': u'2014_06_07_derived',\n",
       "    u'projectId': u'khanacademy.org:deductive-jet-827'},\n",
       "   u'friendlyName': u'2014_06_07_derived',\n",
       "   u'id': u'khanacademy.org:deductive-jet-827:2014_06_07_derived',\n",
       "   u'kind': u'bigquery#dataset'},\n",
       "  {u'datasetReference': {u'datasetId': u'2014_06_07_transformed',\n",
       "    u'projectId': u'khanacademy.org:deductive-jet-827'},\n",
       "   u'friendlyName': u'2014_06_07_transformed',\n",
       "   u'id': u'khanacademy.org:deductive-jet-827:2014_06_07_transformed',\n",
       "   u'kind': u'bigquery#dataset'},\n",
       "  {u'datasetReference': {u'datasetId': u'2014_09_06',\n",
       "    u'projectId': u'khanacademy.org:deductive-jet-827'},\n",
       "   u'friendlyName': u'2014_09_06',\n",
       "   u'id': u'khanacademy.org:deductive-jet-827:2014_09_06',\n",
       "   u'kind': u'bigquery#dataset'},\n",
       "  {u'datasetReference': {u'datasetId': u'2014_09_06_derived',\n",
       "    u'projectId': u'khanacademy.org:deductive-jet-827'},\n",
       "   u'friendlyName': u'2014_09_06_derived',\n",
       "   u'id': u'khanacademy.org:deductive-jet-827:2014_09_06_derived',\n",
       "   u'kind': u'bigquery#dataset'},\n",
       "  {u'datasetReference': {u'datasetId': u'2014_09_06_transformed',\n",
       "    u'projectId': u'khanacademy.org:deductive-jet-827'},\n",
       "   u'friendlyName': u'2014_09_06_transformed',\n",
       "   u'id': u'khanacademy.org:deductive-jet-827:2014_09_06_transformed',\n",
       "   u'kind': u'bigquery#dataset'},\n",
       "  {u'datasetReference': {u'datasetId': u'2014_12_06',\n",
       "    u'projectId': u'khanacademy.org:deductive-jet-827'},\n",
       "   u'friendlyName': u'2014_12_06',\n",
       "   u'id': u'khanacademy.org:deductive-jet-827:2014_12_06',\n",
       "   u'kind': u'bigquery#dataset'},\n",
       "  {u'datasetReference': {u'datasetId': u'2014_12_06_derived',\n",
       "    u'projectId': u'khanacademy.org:deductive-jet-827'},\n",
       "   u'friendlyName': u'2014_12_06_derived',\n",
       "   u'id': u'khanacademy.org:deductive-jet-827:2014_12_06_derived',\n",
       "   u'kind': u'bigquery#dataset'},\n",
       "  {u'datasetReference': {u'datasetId': u'2014_12_06_transformed',\n",
       "    u'projectId': u'khanacademy.org:deductive-jet-827'},\n",
       "   u'friendlyName': u'2014_12_06_transformed',\n",
       "   u'id': u'khanacademy.org:deductive-jet-827:2014_12_06_transformed',\n",
       "   u'kind': u'bigquery#dataset'},\n",
       "  {u'datasetReference': {u'datasetId': u'2014_12_27_derived',\n",
       "    u'projectId': u'khanacademy.org:deductive-jet-827'},\n",
       "   u'friendlyName': u'2014_12_27_derived',\n",
       "   u'id': u'khanacademy.org:deductive-jet-827:2014_12_27_derived',\n",
       "   u'kind': u'bigquery#dataset'},\n",
       "  {u'datasetReference': {u'datasetId': u'2015_01_31',\n",
       "    u'projectId': u'khanacademy.org:deductive-jet-827'},\n",
       "   u'friendlyName': u'2015_01_31',\n",
       "   u'id': u'khanacademy.org:deductive-jet-827:2015_01_31',\n",
       "   u'kind': u'bigquery#dataset'},\n",
       "  {u'datasetReference': {u'datasetId': u'2015_01_31_derived',\n",
       "    u'projectId': u'khanacademy.org:deductive-jet-827'},\n",
       "   u'friendlyName': u'2015_01_31_derived',\n",
       "   u'id': u'khanacademy.org:deductive-jet-827:2015_01_31_derived',\n",
       "   u'kind': u'bigquery#dataset'},\n",
       "  {u'datasetReference': {u'datasetId': u'2015_01_31_transformed',\n",
       "    u'projectId': u'khanacademy.org:deductive-jet-827'},\n",
       "   u'friendlyName': u'2015_01_31_transformed',\n",
       "   u'id': u'khanacademy.org:deductive-jet-827:2015_01_31_transformed',\n",
       "   u'kind': u'bigquery#dataset'},\n",
       "  {u'datasetReference': {u'datasetId': u'2015_02_07',\n",
       "    u'projectId': u'khanacademy.org:deductive-jet-827'},\n",
       "   u'friendlyName': u'2015_02_07',\n",
       "   u'id': u'khanacademy.org:deductive-jet-827:2015_02_07',\n",
       "   u'kind': u'bigquery#dataset'},\n",
       "  {u'datasetReference': {u'datasetId': u'2015_02_07_derived',\n",
       "    u'projectId': u'khanacademy.org:deductive-jet-827'},\n",
       "   u'friendlyName': u'2015_02_07_derived',\n",
       "   u'id': u'khanacademy.org:deductive-jet-827:2015_02_07_derived',\n",
       "   u'kind': u'bigquery#dataset'},\n",
       "  {u'datasetReference': {u'datasetId': u'2015_02_07_transformed',\n",
       "    u'projectId': u'khanacademy.org:deductive-jet-827'},\n",
       "   u'friendlyName': u'2015_02_07_transformed',\n",
       "   u'id': u'khanacademy.org:deductive-jet-827:2015_02_07_transformed',\n",
       "   u'kind': u'bigquery#dataset'},\n",
       "  {u'datasetReference': {u'datasetId': u'2015_02_14',\n",
       "    u'projectId': u'khanacademy.org:deductive-jet-827'},\n",
       "   u'friendlyName': u'2015_02_14',\n",
       "   u'id': u'khanacademy.org:deductive-jet-827:2015_02_14',\n",
       "   u'kind': u'bigquery#dataset'},\n",
       "  {u'datasetReference': {u'datasetId': u'2015_02_14_derived',\n",
       "    u'projectId': u'khanacademy.org:deductive-jet-827'},\n",
       "   u'friendlyName': u'2015_02_14_derived',\n",
       "   u'id': u'khanacademy.org:deductive-jet-827:2015_02_14_derived',\n",
       "   u'kind': u'bigquery#dataset'},\n",
       "  {u'datasetReference': {u'datasetId': u'2015_02_14_transformed',\n",
       "    u'projectId': u'khanacademy.org:deductive-jet-827'},\n",
       "   u'friendlyName': u'2015_02_14_transformed',\n",
       "   u'id': u'khanacademy.org:deductive-jet-827:2015_02_14_transformed',\n",
       "   u'kind': u'bigquery#dataset'},\n",
       "  {u'datasetReference': {u'datasetId': u'2015_02_21',\n",
       "    u'projectId': u'khanacademy.org:deductive-jet-827'},\n",
       "   u'friendlyName': u'2015_02_21',\n",
       "   u'id': u'khanacademy.org:deductive-jet-827:2015_02_21',\n",
       "   u'kind': u'bigquery#dataset'},\n",
       "  {u'datasetReference': {u'datasetId': u'2015_02_21_derived',\n",
       "    u'projectId': u'khanacademy.org:deductive-jet-827'},\n",
       "   u'friendlyName': u'2015_02_21_derived',\n",
       "   u'id': u'khanacademy.org:deductive-jet-827:2015_02_21_derived',\n",
       "   u'kind': u'bigquery#dataset'},\n",
       "  {u'datasetReference': {u'datasetId': u'2015_02_21_transformed',\n",
       "    u'projectId': u'khanacademy.org:deductive-jet-827'},\n",
       "   u'friendlyName': u'2015_02_21_transformed',\n",
       "   u'id': u'khanacademy.org:deductive-jet-827:2015_02_21_transformed',\n",
       "   u'kind': u'bigquery#dataset'},\n",
       "  {u'datasetReference': {u'datasetId': u'2015_02_28_derived',\n",
       "    u'projectId': u'khanacademy.org:deductive-jet-827'},\n",
       "   u'friendlyName': u'2015_02_28_derived',\n",
       "   u'id': u'khanacademy.org:deductive-jet-827:2015_02_28_derived',\n",
       "   u'kind': u'bigquery#dataset'},\n",
       "  {u'datasetReference': {u'datasetId': u'2015_02_28_transformed',\n",
       "    u'projectId': u'khanacademy.org:deductive-jet-827'},\n",
       "   u'friendlyName': u'2015_02_28_transformed',\n",
       "   u'id': u'khanacademy.org:deductive-jet-827:2015_02_28_transformed',\n",
       "   u'kind': u'bigquery#dataset'},\n",
       "  {u'datasetReference': {u'datasetId': u'2015_03_07',\n",
       "    u'projectId': u'khanacademy.org:deductive-jet-827'},\n",
       "   u'friendlyName': u'2015_03_07',\n",
       "   u'id': u'khanacademy.org:deductive-jet-827:2015_03_07',\n",
       "   u'kind': u'bigquery#dataset'},\n",
       "  {u'datasetReference': {u'datasetId': u'2015_03_07_derived',\n",
       "    u'projectId': u'khanacademy.org:deductive-jet-827'},\n",
       "   u'friendlyName': u'2015_03_07_derived',\n",
       "   u'id': u'khanacademy.org:deductive-jet-827:2015_03_07_derived',\n",
       "   u'kind': u'bigquery#dataset'},\n",
       "  {u'datasetReference': {u'datasetId': u'2015_03_07_transformed',\n",
       "    u'projectId': u'khanacademy.org:deductive-jet-827'},\n",
       "   u'friendlyName': u'2015_03_07_transformed',\n",
       "   u'id': u'khanacademy.org:deductive-jet-827:2015_03_07_transformed',\n",
       "   u'kind': u'bigquery#dataset'},\n",
       "  {u'datasetReference': {u'datasetId': u'2015_03_14_derived',\n",
       "    u'projectId': u'khanacademy.org:deductive-jet-827'},\n",
       "   u'friendlyName': u'2015_03_14_derived',\n",
       "   u'id': u'khanacademy.org:deductive-jet-827:2015_03_14_derived',\n",
       "   u'kind': u'bigquery#dataset'},\n",
       "  {u'datasetReference': {u'datasetId': u'2015_03_21_derived',\n",
       "    u'projectId': u'khanacademy.org:deductive-jet-827'},\n",
       "   u'friendlyName': u'2015_03_21_derived',\n",
       "   u'id': u'khanacademy.org:deductive-jet-827:2015_03_21_derived',\n",
       "   u'kind': u'bigquery#dataset'},\n",
       "  {u'datasetReference': {u'datasetId': u'2015_03_28_derived',\n",
       "    u'projectId': u'khanacademy.org:deductive-jet-827'},\n",
       "   u'friendlyName': u'2015_03_28_derived',\n",
       "   u'id': u'khanacademy.org:deductive-jet-827:2015_03_28_derived',\n",
       "   u'kind': u'bigquery#dataset'},\n",
       "  {u'datasetReference': {u'datasetId': u'2015_04_04',\n",
       "    u'projectId': u'khanacademy.org:deductive-jet-827'},\n",
       "   u'friendlyName': u'2015_04_04',\n",
       "   u'id': u'khanacademy.org:deductive-jet-827:2015_04_04',\n",
       "   u'kind': u'bigquery#dataset'},\n",
       "  {u'datasetReference': {u'datasetId': u'2015_04_04_derived',\n",
       "    u'projectId': u'khanacademy.org:deductive-jet-827'},\n",
       "   u'friendlyName': u'2015_04_04_derived',\n",
       "   u'id': u'khanacademy.org:deductive-jet-827:2015_04_04_derived',\n",
       "   u'kind': u'bigquery#dataset'},\n",
       "  {u'datasetReference': {u'datasetId': u'2015_04_04_transformed',\n",
       "    u'projectId': u'khanacademy.org:deductive-jet-827'},\n",
       "   u'friendlyName': u'2015_04_04_transformed',\n",
       "   u'id': u'khanacademy.org:deductive-jet-827:2015_04_04_transformed',\n",
       "   u'kind': u'bigquery#dataset'},\n",
       "  {u'datasetReference': {u'datasetId': u'2015_04_11',\n",
       "    u'projectId': u'khanacademy.org:deductive-jet-827'},\n",
       "   u'friendlyName': u'2015_04_11',\n",
       "   u'id': u'khanacademy.org:deductive-jet-827:2015_04_11',\n",
       "   u'kind': u'bigquery#dataset'},\n",
       "  {u'datasetReference': {u'datasetId': u'2015_04_11_derived',\n",
       "    u'projectId': u'khanacademy.org:deductive-jet-827'},\n",
       "   u'friendlyName': u'2015_04_11_derived',\n",
       "   u'id': u'khanacademy.org:deductive-jet-827:2015_04_11_derived',\n",
       "   u'kind': u'bigquery#dataset'},\n",
       "  {u'datasetReference': {u'datasetId': u'2015_04_18',\n",
       "    u'projectId': u'khanacademy.org:deductive-jet-827'},\n",
       "   u'friendlyName': u'2015_04_18',\n",
       "   u'id': u'khanacademy.org:deductive-jet-827:2015_04_18',\n",
       "   u'kind': u'bigquery#dataset'},\n",
       "  {u'datasetReference': {u'datasetId': u'2015_04_18_derived',\n",
       "    u'projectId': u'khanacademy.org:deductive-jet-827'},\n",
       "   u'friendlyName': u'2015_04_18_derived',\n",
       "   u'id': u'khanacademy.org:deductive-jet-827:2015_04_18_derived',\n",
       "   u'kind': u'bigquery#dataset'},\n",
       "  {u'datasetReference': {u'datasetId': u'2015_04_25',\n",
       "    u'projectId': u'khanacademy.org:deductive-jet-827'},\n",
       "   u'friendlyName': u'2015_04_25',\n",
       "   u'id': u'khanacademy.org:deductive-jet-827:2015_04_25',\n",
       "   u'kind': u'bigquery#dataset'},\n",
       "  {u'datasetReference': {u'datasetId': u'2015_05_02',\n",
       "    u'projectId': u'khanacademy.org:deductive-jet-827'},\n",
       "   u'friendlyName': u'2015_05_02',\n",
       "   u'id': u'khanacademy.org:deductive-jet-827:2015_05_02',\n",
       "   u'kind': u'bigquery#dataset'},\n",
       "  {u'datasetReference': {u'datasetId': u'2015_05_02_derived',\n",
       "    u'projectId': u'khanacademy.org:deductive-jet-827'},\n",
       "   u'friendlyName': u'2015_05_02_derived',\n",
       "   u'id': u'khanacademy.org:deductive-jet-827:2015_05_02_derived',\n",
       "   u'kind': u'bigquery#dataset'},\n",
       "  {u'datasetReference': {u'datasetId': u'2015_05_02_transformed',\n",
       "    u'projectId': u'khanacademy.org:deductive-jet-827'},\n",
       "   u'friendlyName': u'2015_05_02_transformed',\n",
       "   u'id': u'khanacademy.org:deductive-jet-827:2015_05_02_transformed',\n",
       "   u'kind': u'bigquery#dataset'},\n",
       "  {u'datasetReference': {u'datasetId': u'2015_05_09',\n",
       "    u'projectId': u'khanacademy.org:deductive-jet-827'},\n",
       "   u'friendlyName': u'2015_05_09',\n",
       "   u'id': u'khanacademy.org:deductive-jet-827:2015_05_09',\n",
       "   u'kind': u'bigquery#dataset'},\n",
       "  {u'datasetReference': {u'datasetId': u'2015_05_16',\n",
       "    u'projectId': u'khanacademy.org:deductive-jet-827'},\n",
       "   u'friendlyName': u'2015_05_16',\n",
       "   u'id': u'khanacademy.org:deductive-jet-827:2015_05_16',\n",
       "   u'kind': u'bigquery#dataset'},\n",
       "  {u'datasetReference': {u'datasetId': u'2015_05_23',\n",
       "    u'projectId': u'khanacademy.org:deductive-jet-827'},\n",
       "   u'friendlyName': u'2015_05_23',\n",
       "   u'id': u'khanacademy.org:deductive-jet-827:2015_05_23',\n",
       "   u'kind': u'bigquery#dataset'},\n",
       "  {u'datasetReference': {u'datasetId': u'2015_05_30',\n",
       "    u'projectId': u'khanacademy.org:deductive-jet-827'},\n",
       "   u'friendlyName': u'2015_05_30',\n",
       "   u'id': u'khanacademy.org:deductive-jet-827:2015_05_30',\n",
       "   u'kind': u'bigquery#dataset'},\n",
       "  {u'datasetReference': {u'datasetId': u'2015_06_06',\n",
       "    u'projectId': u'khanacademy.org:deductive-jet-827'},\n",
       "   u'friendlyName': u'2015_06_06',\n",
       "   u'id': u'khanacademy.org:deductive-jet-827:2015_06_06',\n",
       "   u'kind': u'bigquery#dataset'},\n",
       "  {u'datasetReference': {u'datasetId': u'2015_06_06_derived',\n",
       "    u'projectId': u'khanacademy.org:deductive-jet-827'},\n",
       "   u'friendlyName': u'2015_06_06_derived',\n",
       "   u'id': u'khanacademy.org:deductive-jet-827:2015_06_06_derived',\n",
       "   u'kind': u'bigquery#dataset'},\n",
       "  {u'datasetReference': {u'datasetId': u'2015_06_06_transformed',\n",
       "    u'projectId': u'khanacademy.org:deductive-jet-827'},\n",
       "   u'friendlyName': u'2015_06_06_transformed',\n",
       "   u'id': u'khanacademy.org:deductive-jet-827:2015_06_06_transformed',\n",
       "   u'kind': u'bigquery#dataset'},\n",
       "  {u'datasetReference': {u'datasetId': u'2015_06_13',\n",
       "    u'projectId': u'khanacademy.org:deductive-jet-827'},\n",
       "   u'friendlyName': u'2015_06_13',\n",
       "   u'id': u'khanacademy.org:deductive-jet-827:2015_06_13',\n",
       "   u'kind': u'bigquery#dataset'}],\n",
       " u'etag': u'\"Bop49sEVg6UBKwr7tLdL8AavHaw/BoRFK0XinUOCHZ_5qscR0URn0dc\"',\n",
       " u'kind': u'bigquery#datasetList',\n",
       " u'nextPageToken': u'2015_06_13'}"
      ]
     },
     "execution_count": 10,
     "metadata": {},
     "output_type": "execute_result"
    }
   ],
   "source": [
    "bq.datasets().list(projectId=\"khanacademy.org:deductive-jet-827\").execute()"
   ]
  },
  {
   "cell_type": "code",
   "execution_count": 11,
   "metadata": {
    "collapsed": false
   },
   "outputs": [
    {
     "data": {
      "text/plain": [
       "[u'subject_metrics_output/all_usage.csv',\n",
       " u'subject_metrics_output/article_usage.csv',\n",
       " u'subject_metrics_output/content_added_this_month.csv',\n",
       " u'subject_metrics_output/content_added_timecourse_df.csv',\n",
       " u'subject_metrics_output/content_production.csv',\n",
       " u'subject_metrics_output/content_total_timecourse_df.csv',\n",
       " u'subject_metrics_output/exercise_usage.csv',\n",
       " u'subject_metrics_output/new_learner_df.csv',\n",
       " u'subject_metrics_output/request_logs_breakdown.csv',\n",
       " u'subject_metrics_output/request_logs_device.csv',\n",
       " u'subject_metrics_output/scratchpad_usage.csv',\n",
       " u'subject_metrics_output/talkthrough_usage.csv',\n",
       " u'subject_metrics_output/total_content_available.csv',\n",
       " u'subject_metrics_output/usage_keys.json',\n",
       " u'subject_metrics_output/video_usage.csv',\n",
       " u'subject_metrics_output/yt_logs.csv']"
      ]
     },
     "execution_count": 11,
     "metadata": {},
     "output_type": "execute_result"
    }
   ],
   "source": [
    "util.bq_util.list_files_in_gcs_bucket(gcs, \"ka_content_analytics/subject_metrics_output\")"
   ]
  }
 ],
 "metadata": {
  "kernelspec": {
   "display_name": "Python 2",
   "language": "python",
   "name": "python2"
  },
  "language_info": {
   "codemirror_mode": {
    "name": "ipython",
    "version": 2
   },
   "file_extension": ".py",
   "mimetype": "text/x-python",
   "name": "python",
   "nbconvert_exporter": "python",
   "pygments_lexer": "ipython2",
   "version": "2.7.10"
  }
 },
 "nbformat": 4,
 "nbformat_minor": 0
}
